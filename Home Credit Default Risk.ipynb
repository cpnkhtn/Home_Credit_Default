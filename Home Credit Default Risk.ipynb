{
 "cells": [
  {
   "cell_type": "markdown",
   "metadata": {},
   "source": [
    "# Home Credit Default Risk Solution"
   ]
  },
  {
   "cell_type": "markdown",
   "metadata": {},
   "source": [
    "https://www.kaggle.com/c/home-credit-default-risk"
   ]
  },
  {
   "cell_type": "markdown",
   "metadata": {},
   "source": [
    "### Importing Required Libraries"
   ]
  },
  {
   "cell_type": "code",
   "execution_count": 1,
   "metadata": {},
   "outputs": [],
   "source": [
    "#Importing General packages\n",
    "import pandas as pd\n",
    "import numpy as np\n",
    "import matplotlib.pyplot as plt\n",
    "import seaborn as sns\n",
    "import shap\n",
    "\n",
    "from sklearn.model_selection import train_test_split\n",
    "from sklearn.linear_model import LogisticRegression\n",
    "from sklearn.ensemble import RandomForestClassifier\n",
    "from sklearn.ensemble import GradientBoostingClassifier\n",
    "from lightgbm import LGBMClassifier\n",
    "\n",
    "from sklearn.metrics import confusion_matrix, classification_report, roc_auc_score, roc_curve, accuracy_score\n",
    "\n",
    "import re\n",
    "\n",
    "import warnings\n",
    "warnings.filterwarnings(\"ignore\")\n",
    "\n",
    "%matplotlib inline"
   ]
  },
  {
   "cell_type": "code",
   "execution_count": 2,
   "metadata": {},
   "outputs": [],
   "source": [
    "df = pd.read_csv(\"Data Source/application_train.csv\")\n",
    "df_test = pd.read_csv(\"Data Source/application_test.csv\")"
   ]
  },
  {
   "cell_type": "markdown",
   "metadata": {},
   "source": [
    "**Overview Data**"
   ]
  },
  {
   "cell_type": "code",
   "execution_count": 3,
   "metadata": {},
   "outputs": [
    {
     "name": "stdout",
     "output_type": "stream",
     "text": [
      "<class 'pandas.core.frame.DataFrame'>\n",
      "RangeIndex: 307511 entries, 0 to 307510\n",
      "Columns: 122 entries, SK_ID_CURR to AMT_REQ_CREDIT_BUREAU_YEAR\n",
      "dtypes: float64(65), int64(41), object(16)\n",
      "memory usage: 286.2+ MB\n"
     ]
    }
   ],
   "source": [
    "df.info()"
   ]
  },
  {
   "cell_type": "code",
   "execution_count": 4,
   "metadata": {},
   "outputs": [
    {
     "name": "stdout",
     "output_type": "stream",
     "text": [
      "Ukuran Dataframe adalah : (307511, 122).\n"
     ]
    }
   ],
   "source": [
    "print(\"Ukuran Dataframe adalah : {}.\".format(df.shape))"
   ]
  },
  {
   "cell_type": "code",
   "execution_count": 5,
   "metadata": {},
   "outputs": [
    {
     "data": {
      "text/html": [
       "<div>\n",
       "<style scoped>\n",
       "    .dataframe tbody tr th:only-of-type {\n",
       "        vertical-align: middle;\n",
       "    }\n",
       "\n",
       "    .dataframe tbody tr th {\n",
       "        vertical-align: top;\n",
       "    }\n",
       "\n",
       "    .dataframe thead th {\n",
       "        text-align: right;\n",
       "    }\n",
       "</style>\n",
       "<table border=\"1\" class=\"dataframe\">\n",
       "  <thead>\n",
       "    <tr style=\"text-align: right;\">\n",
       "      <th></th>\n",
       "      <th>SK_ID_CURR</th>\n",
       "      <th>TARGET</th>\n",
       "      <th>NAME_CONTRACT_TYPE</th>\n",
       "      <th>CODE_GENDER</th>\n",
       "      <th>FLAG_OWN_CAR</th>\n",
       "      <th>FLAG_OWN_REALTY</th>\n",
       "      <th>CNT_CHILDREN</th>\n",
       "      <th>AMT_INCOME_TOTAL</th>\n",
       "      <th>AMT_CREDIT</th>\n",
       "      <th>AMT_ANNUITY</th>\n",
       "      <th>...</th>\n",
       "      <th>FLAG_DOCUMENT_18</th>\n",
       "      <th>FLAG_DOCUMENT_19</th>\n",
       "      <th>FLAG_DOCUMENT_20</th>\n",
       "      <th>FLAG_DOCUMENT_21</th>\n",
       "      <th>AMT_REQ_CREDIT_BUREAU_HOUR</th>\n",
       "      <th>AMT_REQ_CREDIT_BUREAU_DAY</th>\n",
       "      <th>AMT_REQ_CREDIT_BUREAU_WEEK</th>\n",
       "      <th>AMT_REQ_CREDIT_BUREAU_MON</th>\n",
       "      <th>AMT_REQ_CREDIT_BUREAU_QRT</th>\n",
       "      <th>AMT_REQ_CREDIT_BUREAU_YEAR</th>\n",
       "    </tr>\n",
       "  </thead>\n",
       "  <tbody>\n",
       "    <tr>\n",
       "      <th>0</th>\n",
       "      <td>100002</td>\n",
       "      <td>1</td>\n",
       "      <td>Cash loans</td>\n",
       "      <td>M</td>\n",
       "      <td>N</td>\n",
       "      <td>Y</td>\n",
       "      <td>0</td>\n",
       "      <td>202500.0</td>\n",
       "      <td>406597.5</td>\n",
       "      <td>24700.5</td>\n",
       "      <td>...</td>\n",
       "      <td>0</td>\n",
       "      <td>0</td>\n",
       "      <td>0</td>\n",
       "      <td>0</td>\n",
       "      <td>0.0</td>\n",
       "      <td>0.0</td>\n",
       "      <td>0.0</td>\n",
       "      <td>0.0</td>\n",
       "      <td>0.0</td>\n",
       "      <td>1.0</td>\n",
       "    </tr>\n",
       "    <tr>\n",
       "      <th>1</th>\n",
       "      <td>100003</td>\n",
       "      <td>0</td>\n",
       "      <td>Cash loans</td>\n",
       "      <td>F</td>\n",
       "      <td>N</td>\n",
       "      <td>N</td>\n",
       "      <td>0</td>\n",
       "      <td>270000.0</td>\n",
       "      <td>1293502.5</td>\n",
       "      <td>35698.5</td>\n",
       "      <td>...</td>\n",
       "      <td>0</td>\n",
       "      <td>0</td>\n",
       "      <td>0</td>\n",
       "      <td>0</td>\n",
       "      <td>0.0</td>\n",
       "      <td>0.0</td>\n",
       "      <td>0.0</td>\n",
       "      <td>0.0</td>\n",
       "      <td>0.0</td>\n",
       "      <td>0.0</td>\n",
       "    </tr>\n",
       "    <tr>\n",
       "      <th>2</th>\n",
       "      <td>100004</td>\n",
       "      <td>0</td>\n",
       "      <td>Revolving loans</td>\n",
       "      <td>M</td>\n",
       "      <td>Y</td>\n",
       "      <td>Y</td>\n",
       "      <td>0</td>\n",
       "      <td>67500.0</td>\n",
       "      <td>135000.0</td>\n",
       "      <td>6750.0</td>\n",
       "      <td>...</td>\n",
       "      <td>0</td>\n",
       "      <td>0</td>\n",
       "      <td>0</td>\n",
       "      <td>0</td>\n",
       "      <td>0.0</td>\n",
       "      <td>0.0</td>\n",
       "      <td>0.0</td>\n",
       "      <td>0.0</td>\n",
       "      <td>0.0</td>\n",
       "      <td>0.0</td>\n",
       "    </tr>\n",
       "    <tr>\n",
       "      <th>3</th>\n",
       "      <td>100006</td>\n",
       "      <td>0</td>\n",
       "      <td>Cash loans</td>\n",
       "      <td>F</td>\n",
       "      <td>N</td>\n",
       "      <td>Y</td>\n",
       "      <td>0</td>\n",
       "      <td>135000.0</td>\n",
       "      <td>312682.5</td>\n",
       "      <td>29686.5</td>\n",
       "      <td>...</td>\n",
       "      <td>0</td>\n",
       "      <td>0</td>\n",
       "      <td>0</td>\n",
       "      <td>0</td>\n",
       "      <td>NaN</td>\n",
       "      <td>NaN</td>\n",
       "      <td>NaN</td>\n",
       "      <td>NaN</td>\n",
       "      <td>NaN</td>\n",
       "      <td>NaN</td>\n",
       "    </tr>\n",
       "    <tr>\n",
       "      <th>4</th>\n",
       "      <td>100007</td>\n",
       "      <td>0</td>\n",
       "      <td>Cash loans</td>\n",
       "      <td>M</td>\n",
       "      <td>N</td>\n",
       "      <td>Y</td>\n",
       "      <td>0</td>\n",
       "      <td>121500.0</td>\n",
       "      <td>513000.0</td>\n",
       "      <td>21865.5</td>\n",
       "      <td>...</td>\n",
       "      <td>0</td>\n",
       "      <td>0</td>\n",
       "      <td>0</td>\n",
       "      <td>0</td>\n",
       "      <td>0.0</td>\n",
       "      <td>0.0</td>\n",
       "      <td>0.0</td>\n",
       "      <td>0.0</td>\n",
       "      <td>0.0</td>\n",
       "      <td>0.0</td>\n",
       "    </tr>\n",
       "  </tbody>\n",
       "</table>\n",
       "<p>5 rows × 122 columns</p>\n",
       "</div>"
      ],
      "text/plain": [
       "   SK_ID_CURR  TARGET NAME_CONTRACT_TYPE CODE_GENDER FLAG_OWN_CAR  \\\n",
       "0      100002       1         Cash loans           M            N   \n",
       "1      100003       0         Cash loans           F            N   \n",
       "2      100004       0    Revolving loans           M            Y   \n",
       "3      100006       0         Cash loans           F            N   \n",
       "4      100007       0         Cash loans           M            N   \n",
       "\n",
       "  FLAG_OWN_REALTY  CNT_CHILDREN  AMT_INCOME_TOTAL  AMT_CREDIT  AMT_ANNUITY  \\\n",
       "0               Y             0          202500.0    406597.5      24700.5   \n",
       "1               N             0          270000.0   1293502.5      35698.5   \n",
       "2               Y             0           67500.0    135000.0       6750.0   \n",
       "3               Y             0          135000.0    312682.5      29686.5   \n",
       "4               Y             0          121500.0    513000.0      21865.5   \n",
       "\n",
       "   ...  FLAG_DOCUMENT_18 FLAG_DOCUMENT_19 FLAG_DOCUMENT_20 FLAG_DOCUMENT_21  \\\n",
       "0  ...                 0                0                0                0   \n",
       "1  ...                 0                0                0                0   \n",
       "2  ...                 0                0                0                0   \n",
       "3  ...                 0                0                0                0   \n",
       "4  ...                 0                0                0                0   \n",
       "\n",
       "  AMT_REQ_CREDIT_BUREAU_HOUR AMT_REQ_CREDIT_BUREAU_DAY  \\\n",
       "0                        0.0                       0.0   \n",
       "1                        0.0                       0.0   \n",
       "2                        0.0                       0.0   \n",
       "3                        NaN                       NaN   \n",
       "4                        0.0                       0.0   \n",
       "\n",
       "   AMT_REQ_CREDIT_BUREAU_WEEK  AMT_REQ_CREDIT_BUREAU_MON  \\\n",
       "0                         0.0                        0.0   \n",
       "1                         0.0                        0.0   \n",
       "2                         0.0                        0.0   \n",
       "3                         NaN                        NaN   \n",
       "4                         0.0                        0.0   \n",
       "\n",
       "   AMT_REQ_CREDIT_BUREAU_QRT  AMT_REQ_CREDIT_BUREAU_YEAR  \n",
       "0                        0.0                         1.0  \n",
       "1                        0.0                         0.0  \n",
       "2                        0.0                         0.0  \n",
       "3                        NaN                         NaN  \n",
       "4                        0.0                         0.0  \n",
       "\n",
       "[5 rows x 122 columns]"
      ]
     },
     "execution_count": 5,
     "metadata": {},
     "output_type": "execute_result"
    }
   ],
   "source": [
    "df.head()"
   ]
  },
  {
   "cell_type": "markdown",
   "metadata": {},
   "source": [
    "### Hitungan Statistik Dasar"
   ]
  },
  {
   "cell_type": "code",
   "execution_count": 6,
   "metadata": {},
   "outputs": [
    {
     "data": {
      "text/html": [
       "<div>\n",
       "<style scoped>\n",
       "    .dataframe tbody tr th:only-of-type {\n",
       "        vertical-align: middle;\n",
       "    }\n",
       "\n",
       "    .dataframe tbody tr th {\n",
       "        vertical-align: top;\n",
       "    }\n",
       "\n",
       "    .dataframe thead th {\n",
       "        text-align: right;\n",
       "    }\n",
       "</style>\n",
       "<table border=\"1\" class=\"dataframe\">\n",
       "  <thead>\n",
       "    <tr style=\"text-align: right;\">\n",
       "      <th></th>\n",
       "      <th>SK_ID_CURR</th>\n",
       "      <th>TARGET</th>\n",
       "      <th>CNT_CHILDREN</th>\n",
       "      <th>AMT_INCOME_TOTAL</th>\n",
       "      <th>AMT_CREDIT</th>\n",
       "      <th>AMT_ANNUITY</th>\n",
       "      <th>AMT_GOODS_PRICE</th>\n",
       "      <th>REGION_POPULATION_RELATIVE</th>\n",
       "      <th>DAYS_BIRTH</th>\n",
       "      <th>DAYS_EMPLOYED</th>\n",
       "      <th>...</th>\n",
       "      <th>FLAG_DOCUMENT_18</th>\n",
       "      <th>FLAG_DOCUMENT_19</th>\n",
       "      <th>FLAG_DOCUMENT_20</th>\n",
       "      <th>FLAG_DOCUMENT_21</th>\n",
       "      <th>AMT_REQ_CREDIT_BUREAU_HOUR</th>\n",
       "      <th>AMT_REQ_CREDIT_BUREAU_DAY</th>\n",
       "      <th>AMT_REQ_CREDIT_BUREAU_WEEK</th>\n",
       "      <th>AMT_REQ_CREDIT_BUREAU_MON</th>\n",
       "      <th>AMT_REQ_CREDIT_BUREAU_QRT</th>\n",
       "      <th>AMT_REQ_CREDIT_BUREAU_YEAR</th>\n",
       "    </tr>\n",
       "  </thead>\n",
       "  <tbody>\n",
       "    <tr>\n",
       "      <th>count</th>\n",
       "      <td>307511.000000</td>\n",
       "      <td>307511.000000</td>\n",
       "      <td>307511.000000</td>\n",
       "      <td>3.075110e+05</td>\n",
       "      <td>3.075110e+05</td>\n",
       "      <td>307499.000000</td>\n",
       "      <td>3.072330e+05</td>\n",
       "      <td>307511.000000</td>\n",
       "      <td>307511.000000</td>\n",
       "      <td>307511.000000</td>\n",
       "      <td>...</td>\n",
       "      <td>307511.000000</td>\n",
       "      <td>307511.000000</td>\n",
       "      <td>307511.000000</td>\n",
       "      <td>307511.000000</td>\n",
       "      <td>265992.000000</td>\n",
       "      <td>265992.000000</td>\n",
       "      <td>265992.000000</td>\n",
       "      <td>265992.000000</td>\n",
       "      <td>265992.000000</td>\n",
       "      <td>265992.000000</td>\n",
       "    </tr>\n",
       "    <tr>\n",
       "      <th>mean</th>\n",
       "      <td>278180.518577</td>\n",
       "      <td>0.080729</td>\n",
       "      <td>0.417052</td>\n",
       "      <td>1.687979e+05</td>\n",
       "      <td>5.990260e+05</td>\n",
       "      <td>27108.573909</td>\n",
       "      <td>5.383962e+05</td>\n",
       "      <td>0.020868</td>\n",
       "      <td>-16036.995067</td>\n",
       "      <td>63815.045904</td>\n",
       "      <td>...</td>\n",
       "      <td>0.008130</td>\n",
       "      <td>0.000595</td>\n",
       "      <td>0.000507</td>\n",
       "      <td>0.000335</td>\n",
       "      <td>0.006402</td>\n",
       "      <td>0.007000</td>\n",
       "      <td>0.034362</td>\n",
       "      <td>0.267395</td>\n",
       "      <td>0.265474</td>\n",
       "      <td>1.899974</td>\n",
       "    </tr>\n",
       "    <tr>\n",
       "      <th>std</th>\n",
       "      <td>102790.175348</td>\n",
       "      <td>0.272419</td>\n",
       "      <td>0.722121</td>\n",
       "      <td>2.371231e+05</td>\n",
       "      <td>4.024908e+05</td>\n",
       "      <td>14493.737315</td>\n",
       "      <td>3.694465e+05</td>\n",
       "      <td>0.013831</td>\n",
       "      <td>4363.988632</td>\n",
       "      <td>141275.766519</td>\n",
       "      <td>...</td>\n",
       "      <td>0.089798</td>\n",
       "      <td>0.024387</td>\n",
       "      <td>0.022518</td>\n",
       "      <td>0.018299</td>\n",
       "      <td>0.083849</td>\n",
       "      <td>0.110757</td>\n",
       "      <td>0.204685</td>\n",
       "      <td>0.916002</td>\n",
       "      <td>0.794056</td>\n",
       "      <td>1.869295</td>\n",
       "    </tr>\n",
       "    <tr>\n",
       "      <th>min</th>\n",
       "      <td>100002.000000</td>\n",
       "      <td>0.000000</td>\n",
       "      <td>0.000000</td>\n",
       "      <td>2.565000e+04</td>\n",
       "      <td>4.500000e+04</td>\n",
       "      <td>1615.500000</td>\n",
       "      <td>4.050000e+04</td>\n",
       "      <td>0.000290</td>\n",
       "      <td>-25229.000000</td>\n",
       "      <td>-17912.000000</td>\n",
       "      <td>...</td>\n",
       "      <td>0.000000</td>\n",
       "      <td>0.000000</td>\n",
       "      <td>0.000000</td>\n",
       "      <td>0.000000</td>\n",
       "      <td>0.000000</td>\n",
       "      <td>0.000000</td>\n",
       "      <td>0.000000</td>\n",
       "      <td>0.000000</td>\n",
       "      <td>0.000000</td>\n",
       "      <td>0.000000</td>\n",
       "    </tr>\n",
       "    <tr>\n",
       "      <th>25%</th>\n",
       "      <td>189145.500000</td>\n",
       "      <td>0.000000</td>\n",
       "      <td>0.000000</td>\n",
       "      <td>1.125000e+05</td>\n",
       "      <td>2.700000e+05</td>\n",
       "      <td>16524.000000</td>\n",
       "      <td>2.385000e+05</td>\n",
       "      <td>0.010006</td>\n",
       "      <td>-19682.000000</td>\n",
       "      <td>-2760.000000</td>\n",
       "      <td>...</td>\n",
       "      <td>0.000000</td>\n",
       "      <td>0.000000</td>\n",
       "      <td>0.000000</td>\n",
       "      <td>0.000000</td>\n",
       "      <td>0.000000</td>\n",
       "      <td>0.000000</td>\n",
       "      <td>0.000000</td>\n",
       "      <td>0.000000</td>\n",
       "      <td>0.000000</td>\n",
       "      <td>0.000000</td>\n",
       "    </tr>\n",
       "    <tr>\n",
       "      <th>50%</th>\n",
       "      <td>278202.000000</td>\n",
       "      <td>0.000000</td>\n",
       "      <td>0.000000</td>\n",
       "      <td>1.471500e+05</td>\n",
       "      <td>5.135310e+05</td>\n",
       "      <td>24903.000000</td>\n",
       "      <td>4.500000e+05</td>\n",
       "      <td>0.018850</td>\n",
       "      <td>-15750.000000</td>\n",
       "      <td>-1213.000000</td>\n",
       "      <td>...</td>\n",
       "      <td>0.000000</td>\n",
       "      <td>0.000000</td>\n",
       "      <td>0.000000</td>\n",
       "      <td>0.000000</td>\n",
       "      <td>0.000000</td>\n",
       "      <td>0.000000</td>\n",
       "      <td>0.000000</td>\n",
       "      <td>0.000000</td>\n",
       "      <td>0.000000</td>\n",
       "      <td>1.000000</td>\n",
       "    </tr>\n",
       "    <tr>\n",
       "      <th>75%</th>\n",
       "      <td>367142.500000</td>\n",
       "      <td>0.000000</td>\n",
       "      <td>1.000000</td>\n",
       "      <td>2.025000e+05</td>\n",
       "      <td>8.086500e+05</td>\n",
       "      <td>34596.000000</td>\n",
       "      <td>6.795000e+05</td>\n",
       "      <td>0.028663</td>\n",
       "      <td>-12413.000000</td>\n",
       "      <td>-289.000000</td>\n",
       "      <td>...</td>\n",
       "      <td>0.000000</td>\n",
       "      <td>0.000000</td>\n",
       "      <td>0.000000</td>\n",
       "      <td>0.000000</td>\n",
       "      <td>0.000000</td>\n",
       "      <td>0.000000</td>\n",
       "      <td>0.000000</td>\n",
       "      <td>0.000000</td>\n",
       "      <td>0.000000</td>\n",
       "      <td>3.000000</td>\n",
       "    </tr>\n",
       "    <tr>\n",
       "      <th>max</th>\n",
       "      <td>456255.000000</td>\n",
       "      <td>1.000000</td>\n",
       "      <td>19.000000</td>\n",
       "      <td>1.170000e+08</td>\n",
       "      <td>4.050000e+06</td>\n",
       "      <td>258025.500000</td>\n",
       "      <td>4.050000e+06</td>\n",
       "      <td>0.072508</td>\n",
       "      <td>-7489.000000</td>\n",
       "      <td>365243.000000</td>\n",
       "      <td>...</td>\n",
       "      <td>1.000000</td>\n",
       "      <td>1.000000</td>\n",
       "      <td>1.000000</td>\n",
       "      <td>1.000000</td>\n",
       "      <td>4.000000</td>\n",
       "      <td>9.000000</td>\n",
       "      <td>8.000000</td>\n",
       "      <td>27.000000</td>\n",
       "      <td>261.000000</td>\n",
       "      <td>25.000000</td>\n",
       "    </tr>\n",
       "  </tbody>\n",
       "</table>\n",
       "<p>8 rows × 106 columns</p>\n",
       "</div>"
      ],
      "text/plain": [
       "          SK_ID_CURR         TARGET   CNT_CHILDREN  AMT_INCOME_TOTAL  \\\n",
       "count  307511.000000  307511.000000  307511.000000      3.075110e+05   \n",
       "mean   278180.518577       0.080729       0.417052      1.687979e+05   \n",
       "std    102790.175348       0.272419       0.722121      2.371231e+05   \n",
       "min    100002.000000       0.000000       0.000000      2.565000e+04   \n",
       "25%    189145.500000       0.000000       0.000000      1.125000e+05   \n",
       "50%    278202.000000       0.000000       0.000000      1.471500e+05   \n",
       "75%    367142.500000       0.000000       1.000000      2.025000e+05   \n",
       "max    456255.000000       1.000000      19.000000      1.170000e+08   \n",
       "\n",
       "         AMT_CREDIT    AMT_ANNUITY  AMT_GOODS_PRICE  \\\n",
       "count  3.075110e+05  307499.000000     3.072330e+05   \n",
       "mean   5.990260e+05   27108.573909     5.383962e+05   \n",
       "std    4.024908e+05   14493.737315     3.694465e+05   \n",
       "min    4.500000e+04    1615.500000     4.050000e+04   \n",
       "25%    2.700000e+05   16524.000000     2.385000e+05   \n",
       "50%    5.135310e+05   24903.000000     4.500000e+05   \n",
       "75%    8.086500e+05   34596.000000     6.795000e+05   \n",
       "max    4.050000e+06  258025.500000     4.050000e+06   \n",
       "\n",
       "       REGION_POPULATION_RELATIVE     DAYS_BIRTH  DAYS_EMPLOYED  ...  \\\n",
       "count               307511.000000  307511.000000  307511.000000  ...   \n",
       "mean                     0.020868  -16036.995067   63815.045904  ...   \n",
       "std                      0.013831    4363.988632  141275.766519  ...   \n",
       "min                      0.000290  -25229.000000  -17912.000000  ...   \n",
       "25%                      0.010006  -19682.000000   -2760.000000  ...   \n",
       "50%                      0.018850  -15750.000000   -1213.000000  ...   \n",
       "75%                      0.028663  -12413.000000    -289.000000  ...   \n",
       "max                      0.072508   -7489.000000  365243.000000  ...   \n",
       "\n",
       "       FLAG_DOCUMENT_18  FLAG_DOCUMENT_19  FLAG_DOCUMENT_20  FLAG_DOCUMENT_21  \\\n",
       "count     307511.000000     307511.000000     307511.000000     307511.000000   \n",
       "mean           0.008130          0.000595          0.000507          0.000335   \n",
       "std            0.089798          0.024387          0.022518          0.018299   \n",
       "min            0.000000          0.000000          0.000000          0.000000   \n",
       "25%            0.000000          0.000000          0.000000          0.000000   \n",
       "50%            0.000000          0.000000          0.000000          0.000000   \n",
       "75%            0.000000          0.000000          0.000000          0.000000   \n",
       "max            1.000000          1.000000          1.000000          1.000000   \n",
       "\n",
       "       AMT_REQ_CREDIT_BUREAU_HOUR  AMT_REQ_CREDIT_BUREAU_DAY  \\\n",
       "count               265992.000000              265992.000000   \n",
       "mean                     0.006402                   0.007000   \n",
       "std                      0.083849                   0.110757   \n",
       "min                      0.000000                   0.000000   \n",
       "25%                      0.000000                   0.000000   \n",
       "50%                      0.000000                   0.000000   \n",
       "75%                      0.000000                   0.000000   \n",
       "max                      4.000000                   9.000000   \n",
       "\n",
       "       AMT_REQ_CREDIT_BUREAU_WEEK  AMT_REQ_CREDIT_BUREAU_MON  \\\n",
       "count               265992.000000              265992.000000   \n",
       "mean                     0.034362                   0.267395   \n",
       "std                      0.204685                   0.916002   \n",
       "min                      0.000000                   0.000000   \n",
       "25%                      0.000000                   0.000000   \n",
       "50%                      0.000000                   0.000000   \n",
       "75%                      0.000000                   0.000000   \n",
       "max                      8.000000                  27.000000   \n",
       "\n",
       "       AMT_REQ_CREDIT_BUREAU_QRT  AMT_REQ_CREDIT_BUREAU_YEAR  \n",
       "count              265992.000000               265992.000000  \n",
       "mean                    0.265474                    1.899974  \n",
       "std                     0.794056                    1.869295  \n",
       "min                     0.000000                    0.000000  \n",
       "25%                     0.000000                    0.000000  \n",
       "50%                     0.000000                    1.000000  \n",
       "75%                     0.000000                    3.000000  \n",
       "max                   261.000000                   25.000000  \n",
       "\n",
       "[8 rows x 106 columns]"
      ]
     },
     "execution_count": 6,
     "metadata": {},
     "output_type": "execute_result"
    }
   ],
   "source": [
    "df.describe()"
   ]
  },
  {
   "cell_type": "markdown",
   "metadata": {},
   "source": [
    "## Data Exploration"
   ]
  },
  {
   "cell_type": "markdown",
   "metadata": {},
   "source": [
    "Beberapa Pertanyaan yang dieksplorasi adalah:\n",
    "1. Missing Columns\n",
    "2. Korelasi fitur terhadap variabel target\n",
    "3. Perbandingan Target\n",
    "4. Perbandingan Gender\n",
    "5. Kecenderungan Jenis Kelamin dalam pembayaran\n",
    "6. Kecenderungan Punya Anak dengan pembayaran\n",
    "7. Kecenderungan Punya Mobil dengan pembayaran\n",
    "8. Kecenderungan Pekerjaan dengan Pembayaran\n",
    "9. Kecenderungan Properti dengan pembayaran\n",
    "10. Eksplor Variabel Jumlah Pendapatan, Jumlah Kredit, dengan Harga Barang\n",
    "11. Eksplor Variabel Umur\n",
    "12. Eksplor Variabel Lama Bekerja"
   ]
  },
  {
   "cell_type": "markdown",
   "metadata": {
    "_uuid": "1c9fe3df1f2371906580bee8d5127e88fc075bf2"
   },
   "source": [
    "**1. Missing Columns**"
   ]
  },
  {
   "cell_type": "code",
   "execution_count": 7,
   "metadata": {
    "_uuid": "9bb71c53abccd5be1d3210b40dd7926add81a1b8"
   },
   "outputs": [
    {
     "name": "stdout",
     "output_type": "stream",
     "text": [
      "67 kolom dari 121 kolom memiliki missing values\n"
     ]
    }
   ],
   "source": [
    "cols_with_missing_values = len(df.isnull().sum()[df.isnull().sum() > 0])\n",
    "total_cols = df.shape[1] - 1\n",
    "print(\"{} kolom dari {} kolom memiliki missing values\".format(cols_with_missing_values, total_cols))"
   ]
  },
  {
   "cell_type": "code",
   "execution_count": 8,
   "metadata": {
    "_uuid": "87678a7e495340ad6a5c5cd66f7ff3329ff54248"
   },
   "outputs": [
    {
     "name": "stdout",
     "output_type": "stream",
     "text": [
      "41 kolom memiliki missing value lebih dari 50%\n",
      "20 kolom dengan persentase missing tertinggi adalah:\n"
     ]
    },
    {
     "data": {
      "text/plain": [
       "COMMONAREA_AVG              69.872297\n",
       "COMMONAREA_MEDI             69.872297\n",
       "COMMONAREA_MODE             69.872297\n",
       "NONLIVINGAPARTMENTS_MODE    69.432963\n",
       "NONLIVINGAPARTMENTS_MEDI    69.432963\n",
       "NONLIVINGAPARTMENTS_AVG     69.432963\n",
       "FONDKAPREMONT_MODE          68.386172\n",
       "LIVINGAPARTMENTS_MEDI       68.354953\n",
       "LIVINGAPARTMENTS_AVG        68.354953\n",
       "LIVINGAPARTMENTS_MODE       68.354953\n",
       "FLOORSMIN_MODE              67.848630\n",
       "FLOORSMIN_AVG               67.848630\n",
       "FLOORSMIN_MEDI              67.848630\n",
       "YEARS_BUILD_AVG             66.497784\n",
       "YEARS_BUILD_MEDI            66.497784\n",
       "YEARS_BUILD_MODE            66.497784\n",
       "OWN_CAR_AGE                 65.990810\n",
       "LANDAREA_MODE               59.376738\n",
       "LANDAREA_MEDI               59.376738\n",
       "LANDAREA_AVG                59.376738\n",
       "dtype: float64"
      ]
     },
     "execution_count": 8,
     "metadata": {},
     "output_type": "execute_result"
    }
   ],
   "source": [
    "missing_cols_pct = df.isnull().sum()/df.shape[0] * 100\n",
    "high_mv = missing_cols_pct[missing_cols_pct > 50]\n",
    "high_mv_index = high_mv.index.tolist()\n",
    "print(\"{} kolom memiliki missing value lebih dari 50%\".format(len(high_mv_index)))\n",
    "print(\"20 kolom dengan persentase missing tertinggi adalah:\")\n",
    "high_mv.sort_values(ascending=False)[:20]"
   ]
  },
  {
   "cell_type": "markdown",
   "metadata": {
    "_uuid": "9ca15991703c67078a084161fac2b4332302b3df"
   },
   "source": [
    "**2. Korelasi fitur terhadap variabel target**"
   ]
  },
  {
   "cell_type": "code",
   "execution_count": 9,
   "metadata": {
    "_uuid": "9ed4468d787943f31567bec063e6fe017ff781e0"
   },
   "outputs": [],
   "source": [
    "corr_vars = df.corr()['TARGET'].sort_values()"
   ]
  },
  {
   "cell_type": "code",
   "execution_count": 10,
   "metadata": {},
   "outputs": [
    {
     "data": {
      "text/plain": [
       "DAYS_BIRTH                     0.078239\n",
       "REGION_RATING_CLIENT_W_CITY    0.060893\n",
       "REGION_RATING_CLIENT           0.058899\n",
       "DAYS_LAST_PHONE_CHANGE         0.055218\n",
       "DAYS_ID_PUBLISH                0.051457\n",
       "REG_CITY_NOT_WORK_CITY         0.050994\n",
       "FLAG_EMP_PHONE                 0.045982\n",
       "REG_CITY_NOT_LIVE_CITY         0.044395\n",
       "FLAG_DOCUMENT_3                0.044346\n",
       "DAYS_REGISTRATION              0.041975\n",
       "Name: TARGET, dtype: float64"
      ]
     },
     "execution_count": 10,
     "metadata": {},
     "output_type": "execute_result"
    }
   ],
   "source": [
    "positive_corr = corr_vars[corr_vars > 0].sort_values(ascending=False).drop('TARGET')[:10]\n",
    "positive_corr"
   ]
  },
  {
   "cell_type": "code",
   "execution_count": 11,
   "metadata": {},
   "outputs": [
    {
     "data": {
      "text/plain": [
       "EXT_SOURCE_3                 -0.178919\n",
       "EXT_SOURCE_2                 -0.160472\n",
       "EXT_SOURCE_1                 -0.155317\n",
       "DAYS_EMPLOYED                -0.044932\n",
       "FLOORSMAX_AVG                -0.044003\n",
       "FLOORSMAX_MEDI               -0.043768\n",
       "FLOORSMAX_MODE               -0.043226\n",
       "AMT_GOODS_PRICE              -0.039645\n",
       "REGION_POPULATION_RELATIVE   -0.037227\n",
       "ELEVATORS_AVG                -0.034199\n",
       "Name: TARGET, dtype: float64"
      ]
     },
     "execution_count": 11,
     "metadata": {},
     "output_type": "execute_result"
    }
   ],
   "source": [
    "negative_corr = corr_vars[corr_vars < 0].sort_values(ascending=True)[:10]\n",
    "negative_corr"
   ]
  },
  {
   "cell_type": "markdown",
   "metadata": {},
   "source": [
    "**3. Perbandingan Target**"
   ]
  },
  {
   "cell_type": "code",
   "execution_count": 12,
   "metadata": {},
   "outputs": [
    {
     "data": {
      "image/png": "[encoded data removed]",
      "text/plain": [
       "<Figure size 432x288 with 1 Axes>"
      ]
     },
     "metadata": {},
     "output_type": "display_data"
    }
   ],
   "source": [
    "fig = plt.figure()\n",
    "ax = fig.add_axes([0,0,1,1])\n",
    "ax.set_title(\"Perbandingan Target\")\n",
    "ax.axis('equal')\n",
    "labels = ['All other Cases','People With Difficulties']\n",
    "default = df.TARGET.value_counts() #menghitung banyaknya unik dari sebuah kolom\n",
    "ax.pie(default, labels=labels, autopct='%.0f%%')\n",
    "plt.show()"
   ]
  },
  {
   "cell_type": "markdown",
   "metadata": {
    "collapsed": true
   },
   "source": [
    "**4. Perbandingan Gender**"
   ]
  },
  {
   "cell_type": "code",
   "execution_count": 13,
   "metadata": {
    "scrolled": false
   },
   "outputs": [
    {
     "data": {
      "text/plain": [
       "<matplotlib.axes._subplots.AxesSubplot at 0x197008f4bb0>"
      ]
     },
     "execution_count": 13,
     "metadata": {},
     "output_type": "execute_result"
    },
    {
     "data": {
      "image/png": "[encoded data removed]",
      "text/plain": [
       "<Figure size 504x432 with 1 Axes>"
      ]
     },
     "metadata": {
      "needs_background": "light"
     },
     "output_type": "display_data"
    }
   ],
   "source": [
    "fig, ax = plt.subplots(figsize=(7,6))\n",
    "sns.countplot(x='CODE_GENDER',data=df)"
   ]
  },
  {
   "cell_type": "code",
   "execution_count": 14,
   "metadata": {},
   "outputs": [
    {
     "name": "stdout",
     "output_type": "stream",
     "text": [
      "Ternyata, peminjam adalah perempuan dengan rincian:\n",
      "F      202448\n",
      "M      105059\n",
      "XNA         4\n",
      "Name: CODE_GENDER, dtype: int64\n"
     ]
    }
   ],
   "source": [
    "print(\"Ternyata, peminjam adalah perempuan dengan rincian:\\n{}\".format(df.CODE_GENDER.value_counts()))"
   ]
  },
  {
   "cell_type": "markdown",
   "metadata": {},
   "source": [
    "**5. Kecenderungan Jenis Kelamin dalam pembayaran**"
   ]
  },
  {
   "cell_type": "code",
   "execution_count": 15,
   "metadata": {
    "scrolled": false
   },
   "outputs": [
    {
     "data": {
      "text/plain": [
       "<matplotlib.axes._subplots.AxesSubplot at 0x197007690d0>"
      ]
     },
     "execution_count": 15,
     "metadata": {},
     "output_type": "execute_result"
    },
    {
     "data": {
      "image/png": "[encoded data removed]",
      "text/plain": [
       "<Figure size 504x432 with 1 Axes>"
      ]
     },
     "metadata": {
      "needs_background": "light"
     },
     "output_type": "display_data"
    }
   ],
   "source": [
    "fig, ax = plt.subplots(figsize=(7,6))\n",
    "sns.countplot(x='CODE_GENDER',hue='TARGET',data=df)"
   ]
  },
  {
   "cell_type": "markdown",
   "metadata": {},
   "source": [
    "**6. Kecenderungan Punya Anak dengan pembayaran**"
   ]
  },
  {
   "cell_type": "code",
   "execution_count": 16,
   "metadata": {},
   "outputs": [
    {
     "data": {
      "text/plain": [
       "<matplotlib.legend.Legend at 0x197007e6160>"
      ]
     },
     "execution_count": 16,
     "metadata": {},
     "output_type": "execute_result"
    },
    {
     "data": {
      "image/png": "[encoded data removed]",
      "text/plain": [
       "<Figure size 1080x504 with 1 Axes>"
      ]
     },
     "metadata": {
      "needs_background": "light"
     },
     "output_type": "display_data"
    }
   ],
   "source": [
    "fig, ax = plt.subplots(figsize=(15,7))\n",
    "sns.countplot(x='CNT_CHILDREN',hue='TARGET',data=df,palette=\"rainbow\")\n",
    "plt.legend(loc=1)"
   ]
  },
  {
   "cell_type": "markdown",
   "metadata": {},
   "source": [
    "**7. Kecenderungan Punya Mobil dengan pembayaran**"
   ]
  },
  {
   "cell_type": "code",
   "execution_count": 17,
   "metadata": {},
   "outputs": [
    {
     "data": {
      "text/plain": [
       "<matplotlib.axes._subplots.AxesSubplot at 0x19700883e50>"
      ]
     },
     "execution_count": 17,
     "metadata": {},
     "output_type": "execute_result"
    },
    {
     "data": {
      "image/png": "[encoded data removed]",
      "text/plain": [
       "<Figure size 504x432 with 1 Axes>"
      ]
     },
     "metadata": {
      "needs_background": "light"
     },
     "output_type": "display_data"
    }
   ],
   "source": [
    "fig, ax = plt.subplots(figsize=(7,6))\n",
    "sns.countplot(x='FLAG_OWN_CAR',hue='TARGET',data=df,palette=\"Set2\")"
   ]
  },
  {
   "cell_type": "markdown",
   "metadata": {},
   "source": [
    "**8. Kecenderungan Pekerjaan dengan Pembayaran**"
   ]
  },
  {
   "cell_type": "code",
   "execution_count": 18,
   "metadata": {},
   "outputs": [
    {
     "data": {
      "text/plain": [
       "Text(0.5, 0, 'Occupation Type')"
      ]
     },
     "execution_count": 18,
     "metadata": {},
     "output_type": "execute_result"
    },
    {
     "data": {
      "image/png": "[encoded data removed]",
      "text/plain": [
       "<Figure size 1080x576 with 1 Axes>"
      ]
     },
     "metadata": {
      "needs_background": "light"
     },
     "output_type": "display_data"
    }
   ],
   "source": [
    "fig, ax = plt.subplots(figsize=(15,8))\n",
    "sns.countplot(x='OCCUPATION_TYPE',hue='TARGET',data=df,palette=\"Set2\")\n",
    "plt.xticks(rotation=70)\n",
    "plt.xlabel(\"Occupation Type\")"
   ]
  },
  {
   "cell_type": "code",
   "execution_count": 19,
   "metadata": {
    "scrolled": false
   },
   "outputs": [],
   "source": [
    "Occupation_df = pd.DataFrame(data=df.groupby(['OCCUPATION_TYPE','TARGET']).count()['SK_ID_CURR'])"
   ]
  },
  {
   "cell_type": "code",
   "execution_count": 20,
   "metadata": {},
   "outputs": [
    {
     "data": {
      "text/html": [
       "<div>\n",
       "<style scoped>\n",
       "    .dataframe tbody tr th:only-of-type {\n",
       "        vertical-align: middle;\n",
       "    }\n",
       "\n",
       "    .dataframe tbody tr th {\n",
       "        vertical-align: top;\n",
       "    }\n",
       "\n",
       "    .dataframe thead th {\n",
       "        text-align: right;\n",
       "    }\n",
       "</style>\n",
       "<table border=\"1\" class=\"dataframe\">\n",
       "  <thead>\n",
       "    <tr style=\"text-align: right;\">\n",
       "      <th></th>\n",
       "      <th></th>\n",
       "      <th>SK_ID_CURR</th>\n",
       "    </tr>\n",
       "    <tr>\n",
       "      <th>OCCUPATION_TYPE</th>\n",
       "      <th>TARGET</th>\n",
       "      <th></th>\n",
       "    </tr>\n",
       "  </thead>\n",
       "  <tbody>\n",
       "    <tr>\n",
       "      <th rowspan=\"2\" valign=\"top\">Accountants</th>\n",
       "      <th>0</th>\n",
       "      <td>9339</td>\n",
       "    </tr>\n",
       "    <tr>\n",
       "      <th>1</th>\n",
       "      <td>474</td>\n",
       "    </tr>\n",
       "    <tr>\n",
       "      <th rowspan=\"2\" valign=\"top\">Cleaning staff</th>\n",
       "      <th>0</th>\n",
       "      <td>4206</td>\n",
       "    </tr>\n",
       "    <tr>\n",
       "      <th>1</th>\n",
       "      <td>447</td>\n",
       "    </tr>\n",
       "    <tr>\n",
       "      <th>Cooking staff</th>\n",
       "      <th>0</th>\n",
       "      <td>5325</td>\n",
       "    </tr>\n",
       "  </tbody>\n",
       "</table>\n",
       "</div>"
      ],
      "text/plain": [
       "                        SK_ID_CURR\n",
       "OCCUPATION_TYPE TARGET            \n",
       "Accountants     0             9339\n",
       "                1              474\n",
       "Cleaning staff  0             4206\n",
       "                1              447\n",
       "Cooking staff   0             5325"
      ]
     },
     "execution_count": 20,
     "metadata": {},
     "output_type": "execute_result"
    }
   ],
   "source": [
    "Occupation_df.head()"
   ]
  },
  {
   "cell_type": "code",
   "execution_count": 21,
   "metadata": {},
   "outputs": [
    {
     "data": {
      "text/html": [
       "<div>\n",
       "<style scoped>\n",
       "    .dataframe tbody tr th:only-of-type {\n",
       "        vertical-align: middle;\n",
       "    }\n",
       "\n",
       "    .dataframe tbody tr th {\n",
       "        vertical-align: top;\n",
       "    }\n",
       "\n",
       "    .dataframe thead th {\n",
       "        text-align: right;\n",
       "    }\n",
       "</style>\n",
       "<table border=\"1\" class=\"dataframe\">\n",
       "  <thead>\n",
       "    <tr style=\"text-align: right;\">\n",
       "      <th></th>\n",
       "      <th>OCCUPATION_TYPE</th>\n",
       "      <th>TARGET</th>\n",
       "      <th>SK_ID_CURR</th>\n",
       "    </tr>\n",
       "  </thead>\n",
       "  <tbody>\n",
       "    <tr>\n",
       "      <th>0</th>\n",
       "      <td>Accountants</td>\n",
       "      <td>0</td>\n",
       "      <td>9339</td>\n",
       "    </tr>\n",
       "    <tr>\n",
       "      <th>1</th>\n",
       "      <td>Accountants</td>\n",
       "      <td>1</td>\n",
       "      <td>474</td>\n",
       "    </tr>\n",
       "    <tr>\n",
       "      <th>2</th>\n",
       "      <td>Cleaning staff</td>\n",
       "      <td>0</td>\n",
       "      <td>4206</td>\n",
       "    </tr>\n",
       "    <tr>\n",
       "      <th>3</th>\n",
       "      <td>Cleaning staff</td>\n",
       "      <td>1</td>\n",
       "      <td>447</td>\n",
       "    </tr>\n",
       "    <tr>\n",
       "      <th>4</th>\n",
       "      <td>Cooking staff</td>\n",
       "      <td>0</td>\n",
       "      <td>5325</td>\n",
       "    </tr>\n",
       "  </tbody>\n",
       "</table>\n",
       "</div>"
      ],
      "text/plain": [
       "  OCCUPATION_TYPE  TARGET  SK_ID_CURR\n",
       "0     Accountants       0        9339\n",
       "1     Accountants       1         474\n",
       "2  Cleaning staff       0        4206\n",
       "3  Cleaning staff       1         447\n",
       "4   Cooking staff       0        5325"
      ]
     },
     "execution_count": 21,
     "metadata": {},
     "output_type": "execute_result"
    }
   ],
   "source": [
    "Occupation_df = Occupation_df.reset_index() \n",
    "Occupation_df.head()"
   ]
  },
  {
   "cell_type": "code",
   "execution_count": 22,
   "metadata": {},
   "outputs": [],
   "source": [
    "value_counts = Occupation_df['SK_ID_CURR'].values"
   ]
  },
  {
   "cell_type": "code",
   "execution_count": 23,
   "metadata": {},
   "outputs": [
    {
     "data": {
      "text/plain": [
       "array([ 9339,   474,  4206,   447,  5325,   621, 25832,  1738, 16496,\n",
       "        2107,   527,    36, 10679,   701,   492,    34, 49348,  5838,\n",
       "        1734,   359, 20043,  1328,  7965,   572,  2477,   175,   692,\n",
       "          59, 29010,  3092,  1213,    92,  5999,   722,  1196,   152],\n",
       "      dtype=int64)"
      ]
     },
     "execution_count": 23,
     "metadata": {},
     "output_type": "execute_result"
    }
   ],
   "source": [
    "value_counts"
   ]
  },
  {
   "cell_type": "code",
   "execution_count": 24,
   "metadata": {},
   "outputs": [],
   "source": [
    "def repayers_to_applicants_ratio(values):\n",
    "    flag = 1\n",
    "    ratios = []\n",
    "    for count in range(len(values)):\n",
    "        if flag == 1:\n",
    "            current_number = values[count]\n",
    "            next_number = values[count+1]\n",
    "            ratios.append(current_number/(current_number+next_number))\n",
    "            ratios.append(current_number/(current_number+next_number))\n",
    "        flag=flag*-1\n",
    "    return ratios        "
   ]
  },
  {
   "cell_type": "code",
   "execution_count": 25,
   "metadata": {},
   "outputs": [],
   "source": [
    "# find the ratios from the array values\n",
    "Occupation_df['Succes Ratios'] = repayers_to_applicants_ratio(value_counts)"
   ]
  },
  {
   "cell_type": "code",
   "execution_count": 26,
   "metadata": {},
   "outputs": [
    {
     "data": {
      "text/html": [
       "<div>\n",
       "<style scoped>\n",
       "    .dataframe tbody tr th:only-of-type {\n",
       "        vertical-align: middle;\n",
       "    }\n",
       "\n",
       "    .dataframe tbody tr th {\n",
       "        vertical-align: top;\n",
       "    }\n",
       "\n",
       "    .dataframe thead th {\n",
       "        text-align: right;\n",
       "    }\n",
       "</style>\n",
       "<table border=\"1\" class=\"dataframe\">\n",
       "  <thead>\n",
       "    <tr style=\"text-align: right;\">\n",
       "      <th></th>\n",
       "      <th>OCCUPATION_TYPE</th>\n",
       "      <th>TARGET</th>\n",
       "      <th>SK_ID_CURR</th>\n",
       "      <th>Succes Ratios</th>\n",
       "    </tr>\n",
       "  </thead>\n",
       "  <tbody>\n",
       "    <tr>\n",
       "      <th>0</th>\n",
       "      <td>Accountants</td>\n",
       "      <td>0</td>\n",
       "      <td>9339</td>\n",
       "      <td>0.951697</td>\n",
       "    </tr>\n",
       "    <tr>\n",
       "      <th>1</th>\n",
       "      <td>Accountants</td>\n",
       "      <td>1</td>\n",
       "      <td>474</td>\n",
       "      <td>0.951697</td>\n",
       "    </tr>\n",
       "    <tr>\n",
       "      <th>2</th>\n",
       "      <td>Cleaning staff</td>\n",
       "      <td>0</td>\n",
       "      <td>4206</td>\n",
       "      <td>0.903933</td>\n",
       "    </tr>\n",
       "    <tr>\n",
       "      <th>3</th>\n",
       "      <td>Cleaning staff</td>\n",
       "      <td>1</td>\n",
       "      <td>447</td>\n",
       "      <td>0.903933</td>\n",
       "    </tr>\n",
       "    <tr>\n",
       "      <th>4</th>\n",
       "      <td>Cooking staff</td>\n",
       "      <td>0</td>\n",
       "      <td>5325</td>\n",
       "      <td>0.895560</td>\n",
       "    </tr>\n",
       "  </tbody>\n",
       "</table>\n",
       "</div>"
      ],
      "text/plain": [
       "  OCCUPATION_TYPE  TARGET  SK_ID_CURR  Succes Ratios\n",
       "0     Accountants       0        9339       0.951697\n",
       "1     Accountants       1         474       0.951697\n",
       "2  Cleaning staff       0        4206       0.903933\n",
       "3  Cleaning staff       1         447       0.903933\n",
       "4   Cooking staff       0        5325       0.895560"
      ]
     },
     "execution_count": 26,
     "metadata": {},
     "output_type": "execute_result"
    }
   ],
   "source": [
    "Occupation_df.head()"
   ]
  },
  {
   "cell_type": "code",
   "execution_count": 27,
   "metadata": {},
   "outputs": [
    {
     "data": {
      "text/html": [
       "<div>\n",
       "<style scoped>\n",
       "    .dataframe tbody tr th:only-of-type {\n",
       "        vertical-align: middle;\n",
       "    }\n",
       "\n",
       "    .dataframe tbody tr th {\n",
       "        vertical-align: top;\n",
       "    }\n",
       "\n",
       "    .dataframe thead th {\n",
       "        text-align: right;\n",
       "    }\n",
       "</style>\n",
       "<table border=\"1\" class=\"dataframe\">\n",
       "  <thead>\n",
       "    <tr style=\"text-align: right;\">\n",
       "      <th></th>\n",
       "      <th>OCCUPATION_TYPE</th>\n",
       "      <th>Succes Ratios</th>\n",
       "    </tr>\n",
       "  </thead>\n",
       "  <tbody>\n",
       "    <tr>\n",
       "      <th>0</th>\n",
       "      <td>Accountants</td>\n",
       "      <td>0.951697</td>\n",
       "    </tr>\n",
       "    <tr>\n",
       "      <th>6</th>\n",
       "      <td>High skill tech staff</td>\n",
       "      <td>0.938401</td>\n",
       "    </tr>\n",
       "    <tr>\n",
       "      <th>10</th>\n",
       "      <td>Managers</td>\n",
       "      <td>0.937860</td>\n",
       "    </tr>\n",
       "    <tr>\n",
       "      <th>3</th>\n",
       "      <td>Core staff</td>\n",
       "      <td>0.936960</td>\n",
       "    </tr>\n",
       "    <tr>\n",
       "      <th>5</th>\n",
       "      <td>HR staff</td>\n",
       "      <td>0.936057</td>\n",
       "    </tr>\n",
       "  </tbody>\n",
       "</table>\n",
       "</div>"
      ],
      "text/plain": [
       "          OCCUPATION_TYPE  Succes Ratios\n",
       "0             Accountants       0.951697\n",
       "6   High skill tech staff       0.938401\n",
       "10               Managers       0.937860\n",
       "3              Core staff       0.936960\n",
       "5                HR staff       0.936057"
      ]
     },
     "execution_count": 27,
     "metadata": {},
     "output_type": "execute_result"
    }
   ],
   "source": [
    "# get the ratio and values based on the order of saftety.\n",
    "\n",
    "Occupation_ratio_df = Occupation_df.groupby(['OCCUPATION_TYPE','Succes Ratios']).count().drop(['TARGET', 'SK_ID_CURR'],axis=1)\n",
    "Occupation_ratio_df = Occupation_ratio_df.reset_index() \n",
    "Occupation_ratio_df = Occupation_ratio_df.sort_values(['Succes Ratios'],ascending=False)\n",
    "Occupation_ratio_df.head()"
   ]
  },
  {
   "cell_type": "code",
   "execution_count": 28,
   "metadata": {
    "scrolled": false
   },
   "outputs": [
    {
     "data": {
      "text/plain": [
       "Text(0, 0.5, 'Succes Ratios')"
      ]
     },
     "execution_count": 28,
     "metadata": {},
     "output_type": "execute_result"
    },
    {
     "data": {
      "image/png": "[encoded data removed]",
      "text/plain": [
       "<Figure size 1080x576 with 1 Axes>"
      ]
     },
     "metadata": {
      "needs_background": "light"
     },
     "output_type": "display_data"
    }
   ],
   "source": [
    "# explore occupation type and occupation and occupation based repayment to applicants ratio.\n",
    "fig,ax = plt.subplots(figsize = (15,8))\n",
    "occ = Occupation_ratio_df['OCCUPATION_TYPE'][:10]\n",
    "sns.barplot(x=occ,y='Succes Ratios',data=Occupation_ratio_df,palette=sns.color_palette(\"husl\"))\n",
    "plt.xticks(rotation=70)\n",
    "plt.xlabel(\"Occupation Type\")\n",
    "plt.ylabel(\"Succes Ratios\")"
   ]
  },
  {
   "cell_type": "markdown",
   "metadata": {},
   "source": [
    "Menurut sukses rasio dalam setiap jenis pekerjaan, terlihat bahwa paling aman memberikan pinjaman kepada Akuntan dengan sukses rasio 0,9516 dan paling tidak aman meminjamkan uang kepada pekerja berketerampilan rendah dengan sukses rasio 0,8284."
   ]
  },
  {
   "cell_type": "markdown",
   "metadata": {},
   "source": [
    "**9. Kecenderungan Properti dengan pembayaran**"
   ]
  },
  {
   "cell_type": "code",
   "execution_count": 29,
   "metadata": {
    "scrolled": false
   },
   "outputs": [
    {
     "data": {
      "text/plain": [
       "<matplotlib.axes._subplots.AxesSubplot at 0x197014c5fd0>"
      ]
     },
     "execution_count": 29,
     "metadata": {},
     "output_type": "execute_result"
    },
    {
     "data": {
      "image/png": "[encoded data removed]",
      "text/plain": [
       "<Figure size 504x432 with 1 Axes>"
      ]
     },
     "metadata": {
      "needs_background": "light"
     },
     "output_type": "display_data"
    }
   ],
   "source": [
    "plt.figure(figsize=(7,6))\n",
    "sns.countplot(x='FLAG_OWN_REALTY', data=df)"
   ]
  },
  {
   "cell_type": "markdown",
   "metadata": {},
   "source": [
    "Lebih dari 200k klien memiliki realty dan lebih 95k lainnya tidak"
   ]
  },
  {
   "cell_type": "code",
   "execution_count": 30,
   "metadata": {
    "scrolled": false
   },
   "outputs": [
    {
     "data": {
      "text/plain": [
       "<matplotlib.axes._subplots.AxesSubplot at 0x19701596910>"
      ]
     },
     "execution_count": 30,
     "metadata": {},
     "output_type": "execute_result"
    },
    {
     "data": {
      "image/png": "[encoded data removed]",
      "text/plain": [
       "<Figure size 504x432 with 1 Axes>"
      ]
     },
     "metadata": {
      "needs_background": "light"
     },
     "output_type": "display_data"
    }
   ],
   "source": [
    "fig, ax = plt.subplots(figsize=(7,6))\n",
    "sns.countplot(x='FLAG_OWN_REALTY',hue='TARGET',data=df)"
   ]
  },
  {
   "cell_type": "code",
   "execution_count": 31,
   "metadata": {},
   "outputs": [],
   "source": [
    "realty_with_difficulty = len(df[(df['FLAG_OWN_REALTY']=='Y') & (df['TARGET']==1)])\n",
    "realty_without_difficulty = len(df[(df['FLAG_OWN_REALTY']=='Y') & (df['TARGET']==0)])\n",
    "no_realty_with_difficulty = len(df[(df['FLAG_OWN_REALTY']=='N') & (df['TARGET']==1)])\n",
    "no_realty_without_difficulty = len(df[(df['FLAG_OWN_REALTY']=='N') & (df['TARGET']==0)])"
   ]
  },
  {
   "cell_type": "code",
   "execution_count": 32,
   "metadata": {},
   "outputs": [
    {
     "name": "stdout",
     "output_type": "stream",
     "text": [
      "Gagal Bayar yang memiliki realty % =  7.961577407740774\n",
      "Gagal Bayar yang tidak memiliki realty % =  8.324929139375152\n"
     ]
    }
   ],
   "source": [
    "print(\"Gagal Bayar yang memiliki realty % = \", 100 * realty_with_difficulty/(realty_with_difficulty+realty_without_difficulty))\n",
    "print(\"Gagal Bayar yang tidak memiliki realty % = \", 100 * no_realty_with_difficulty/(no_realty_with_difficulty+no_realty_without_difficulty))"
   ]
  },
  {
   "cell_type": "markdown",
   "metadata": {
    "_uuid": "3e07b34754b20c6d0eea0ba2afdd0368d67c2854"
   },
   "source": [
    "**10. Eksplor Variabel Jumlah Pendapatan, Jumlah Kredit, dengan Harga Barang**"
   ]
  },
  {
   "cell_type": "code",
   "execution_count": 33,
   "metadata": {
    "_uuid": "6cc8f0d9f961b444ccf19d25e48b306b68b35353"
   },
   "outputs": [
    {
     "data": {
      "text/html": [
       "<div>\n",
       "<style scoped>\n",
       "    .dataframe tbody tr th:only-of-type {\n",
       "        vertical-align: middle;\n",
       "    }\n",
       "\n",
       "    .dataframe tbody tr th {\n",
       "        vertical-align: top;\n",
       "    }\n",
       "\n",
       "    .dataframe thead th {\n",
       "        text-align: right;\n",
       "    }\n",
       "</style>\n",
       "<table border=\"1\" class=\"dataframe\">\n",
       "  <thead>\n",
       "    <tr style=\"text-align: right;\">\n",
       "      <th></th>\n",
       "      <th>AMT_INCOME_TOTAL</th>\n",
       "      <th>AMT_CREDIT</th>\n",
       "      <th>AMT_GOODS_PRICE</th>\n",
       "    </tr>\n",
       "  </thead>\n",
       "  <tbody>\n",
       "    <tr>\n",
       "      <th>count</th>\n",
       "      <td>307511.00</td>\n",
       "      <td>307511.00</td>\n",
       "      <td>307233.00</td>\n",
       "    </tr>\n",
       "    <tr>\n",
       "      <th>mean</th>\n",
       "      <td>168797.92</td>\n",
       "      <td>599026.00</td>\n",
       "      <td>538396.21</td>\n",
       "    </tr>\n",
       "    <tr>\n",
       "      <th>std</th>\n",
       "      <td>237123.15</td>\n",
       "      <td>402490.78</td>\n",
       "      <td>369446.46</td>\n",
       "    </tr>\n",
       "    <tr>\n",
       "      <th>min</th>\n",
       "      <td>25650.00</td>\n",
       "      <td>45000.00</td>\n",
       "      <td>40500.00</td>\n",
       "    </tr>\n",
       "    <tr>\n",
       "      <th>25%</th>\n",
       "      <td>112500.00</td>\n",
       "      <td>270000.00</td>\n",
       "      <td>238500.00</td>\n",
       "    </tr>\n",
       "    <tr>\n",
       "      <th>50%</th>\n",
       "      <td>147150.00</td>\n",
       "      <td>513531.00</td>\n",
       "      <td>450000.00</td>\n",
       "    </tr>\n",
       "    <tr>\n",
       "      <th>75%</th>\n",
       "      <td>202500.00</td>\n",
       "      <td>808650.00</td>\n",
       "      <td>679500.00</td>\n",
       "    </tr>\n",
       "    <tr>\n",
       "      <th>max</th>\n",
       "      <td>117000000.00</td>\n",
       "      <td>4050000.00</td>\n",
       "      <td>4050000.00</td>\n",
       "    </tr>\n",
       "  </tbody>\n",
       "</table>\n",
       "</div>"
      ],
      "text/plain": [
       "       AMT_INCOME_TOTAL  AMT_CREDIT  AMT_GOODS_PRICE\n",
       "count         307511.00   307511.00        307233.00\n",
       "mean          168797.92   599026.00        538396.21\n",
       "std           237123.15   402490.78        369446.46\n",
       "min            25650.00    45000.00         40500.00\n",
       "25%           112500.00   270000.00        238500.00\n",
       "50%           147150.00   513531.00        450000.00\n",
       "75%           202500.00   808650.00        679500.00\n",
       "max        117000000.00  4050000.00       4050000.00"
      ]
     },
     "execution_count": 33,
     "metadata": {},
     "output_type": "execute_result"
    }
   ],
   "source": [
    "pd.options.display.float_format = '{:.2f}'.format\n",
    "df[[\"AMT_INCOME_TOTAL\", \"AMT_CREDIT\", \"AMT_GOODS_PRICE\"]].describe()"
   ]
  },
  {
   "cell_type": "markdown",
   "metadata": {
    "_uuid": "708bc1a3bd10b5847eecb77c793445ec385e6284"
   },
   "source": [
    " Plot a distribution along with its boxplot using Seaborn"
   ]
  },
  {
   "cell_type": "code",
   "execution_count": 34,
   "metadata": {
    "_uuid": "b0542be54458a5a59e3b88c5b8afd5b10e02a628",
    "scrolled": true
   },
   "outputs": [
    {
     "data": {
      "image/png": "[encoded data removed]",
      "text/plain": [
       "<Figure size 432x288 with 2 Axes>"
      ]
     },
     "metadata": {
      "needs_background": "light"
     },
     "output_type": "display_data"
    }
   ],
   "source": [
    "fig, (ax1, ax2) = plt.subplots(1, 2)\n",
    "sns.distplot(df[\"AMT_INCOME_TOTAL\"], color = 'blue', ax = ax1)\n",
    "sns.boxplot(x=df[\"AMT_INCOME_TOTAL\"], ax = ax2)\n",
    "plt.show()"
   ]
  },
  {
   "cell_type": "markdown",
   "metadata": {},
   "source": []
  },
  {
   "cell_type": "code",
   "execution_count": 35,
   "metadata": {},
   "outputs": [
    {
     "data": {
      "image/png": "[encoded data removed]",
      "text/plain": [
       "<Figure size 432x288 with 2 Axes>"
      ]
     },
     "metadata": {
      "needs_background": "light"
     },
     "output_type": "display_data"
    }
   ],
   "source": [
    "fig, (ax1, ax2) = plt.subplots(1, 2)\n",
    "sns.distplot(df[\"AMT_CREDIT\"], color = 'blue', ax = ax1)\n",
    "sns.boxplot(x=df[\"AMT_CREDIT\"], ax = ax2)\n",
    "plt.show()"
   ]
  },
  {
   "cell_type": "markdown",
   "metadata": {
    "_uuid": "b8177502def0ee3c45846b68856a320ac4bb1683"
   },
   "source": [
    "The distribution looks right skewed which makes sense as not many people would be taking a very high amount loan. The next thing we are going to do is to plot multiple plots by using GridSpec. "
   ]
  },
  {
   "cell_type": "code",
   "execution_count": 36,
   "metadata": {},
   "outputs": [
    {
     "data": {
      "image/png": "[encoded data removed]",
      "text/plain": [
       "<Figure size 432x288 with 2 Axes>"
      ]
     },
     "metadata": {
      "needs_background": "light"
     },
     "output_type": "display_data"
    }
   ],
   "source": [
    "fig, (ax1, ax2) = plt.subplots(1, 2)\n",
    "sns.distplot(df[\"AMT_GOODS_PRICE\"], color = 'blue', ax = ax1)\n",
    "sns.boxplot(x=df[\"AMT_GOODS_PRICE\"], ax = ax2)\n",
    "plt.show()"
   ]
  },
  {
   "cell_type": "markdown",
   "metadata": {},
   "source": []
  },
  {
   "cell_type": "markdown",
   "metadata": {
    "_uuid": "e2aef85a7f6623f930c32ae2dcfe83bca5ea658f"
   },
   "source": [
    "**11. Eksplore Variabel Umur**"
   ]
  },
  {
   "cell_type": "code",
   "execution_count": 37,
   "metadata": {
    "_uuid": "6cc8f0d9f961b444ccf19d25e48b306b68b35353"
   },
   "outputs": [
    {
     "data": {
      "text/html": [
       "<div>\n",
       "<style scoped>\n",
       "    .dataframe tbody tr th:only-of-type {\n",
       "        vertical-align: middle;\n",
       "    }\n",
       "\n",
       "    .dataframe tbody tr th {\n",
       "        vertical-align: top;\n",
       "    }\n",
       "\n",
       "    .dataframe thead th {\n",
       "        text-align: right;\n",
       "    }\n",
       "</style>\n",
       "<table border=\"1\" class=\"dataframe\">\n",
       "  <thead>\n",
       "    <tr style=\"text-align: right;\">\n",
       "      <th></th>\n",
       "      <th>DAYS_BIRTH</th>\n",
       "      <th>DAYS_EMPLOYED</th>\n",
       "    </tr>\n",
       "  </thead>\n",
       "  <tbody>\n",
       "    <tr>\n",
       "      <th>count</th>\n",
       "      <td>307511.00</td>\n",
       "      <td>307511.00</td>\n",
       "    </tr>\n",
       "    <tr>\n",
       "      <th>mean</th>\n",
       "      <td>-16037.00</td>\n",
       "      <td>63815.05</td>\n",
       "    </tr>\n",
       "    <tr>\n",
       "      <th>std</th>\n",
       "      <td>4363.99</td>\n",
       "      <td>141275.77</td>\n",
       "    </tr>\n",
       "    <tr>\n",
       "      <th>min</th>\n",
       "      <td>-25229.00</td>\n",
       "      <td>-17912.00</td>\n",
       "    </tr>\n",
       "    <tr>\n",
       "      <th>25%</th>\n",
       "      <td>-19682.00</td>\n",
       "      <td>-2760.00</td>\n",
       "    </tr>\n",
       "    <tr>\n",
       "      <th>50%</th>\n",
       "      <td>-15750.00</td>\n",
       "      <td>-1213.00</td>\n",
       "    </tr>\n",
       "    <tr>\n",
       "      <th>75%</th>\n",
       "      <td>-12413.00</td>\n",
       "      <td>-289.00</td>\n",
       "    </tr>\n",
       "    <tr>\n",
       "      <th>max</th>\n",
       "      <td>-7489.00</td>\n",
       "      <td>365243.00</td>\n",
       "    </tr>\n",
       "  </tbody>\n",
       "</table>\n",
       "</div>"
      ],
      "text/plain": [
       "       DAYS_BIRTH  DAYS_EMPLOYED\n",
       "count   307511.00      307511.00\n",
       "mean    -16037.00       63815.05\n",
       "std       4363.99      141275.77\n",
       "min     -25229.00      -17912.00\n",
       "25%     -19682.00       -2760.00\n",
       "50%     -15750.00       -1213.00\n",
       "75%     -12413.00        -289.00\n",
       "max      -7489.00      365243.00"
      ]
     },
     "execution_count": 37,
     "metadata": {},
     "output_type": "execute_result"
    }
   ],
   "source": [
    "pd.options.display.float_format = '{:.2f}'.format\n",
    "df[[\"DAYS_BIRTH\", \"DAYS_EMPLOYED\"]].describe()"
   ]
  },
  {
   "cell_type": "markdown",
   "metadata": {},
   "source": [
    "Variabel Umur"
   ]
  },
  {
   "cell_type": "code",
   "execution_count": 38,
   "metadata": {},
   "outputs": [
    {
     "data": {
      "text/plain": [
       "count   307511.00\n",
       "mean        43.94\n",
       "std         11.96\n",
       "min         20.52\n",
       "25%         34.01\n",
       "50%         43.15\n",
       "75%         53.92\n",
       "max         69.12\n",
       "Name: DAYS_BIRTH, dtype: float64"
      ]
     },
     "execution_count": 38,
     "metadata": {},
     "output_type": "execute_result"
    }
   ],
   "source": [
    "(df['DAYS_BIRTH']/-365).describe()"
   ]
  },
  {
   "cell_type": "code",
   "execution_count": 39,
   "metadata": {},
   "outputs": [
    {
     "data": {
      "image/png": "[encoded data removed]",
      "text/plain": [
       "<Figure size 432x288 with 2 Axes>"
      ]
     },
     "metadata": {
      "needs_background": "light"
     },
     "output_type": "display_data"
    }
   ],
   "source": [
    "fig, (ax1, ax2) = plt.subplots(1, 2)\n",
    "sns.distplot(df[\"DAYS_BIRTH\"]/-365, color = 'blue', ax = ax1)\n",
    "sns.boxplot(x=df[\"DAYS_BIRTH\"]/-365, ax = ax2)\n",
    "plt.show()"
   ]
  },
  {
   "cell_type": "markdown",
   "metadata": {
    "_uuid": "370fcde7d41418ca20e865175fa59758fbf45c8e"
   },
   "source": [
    "Rentang Umur 20-70 Tahun"
   ]
  },
  {
   "cell_type": "code",
   "execution_count": 40,
   "metadata": {
    "_uuid": "dd98dd5b9f7dd2979b465ba3d7594f4793e84a4a"
   },
   "outputs": [
    {
     "data": {
      "text/plain": [
       "[]"
      ]
     },
     "execution_count": 40,
     "metadata": {},
     "output_type": "execute_result"
    },
    {
     "data": {
      "image/png": "[encoded data removed]",
      "text/plain": [
       "<Figure size 432x288 with 1 Axes>"
      ]
     },
     "metadata": {
      "needs_background": "light"
     },
     "output_type": "display_data"
    }
   ],
   "source": [
    "sns.kdeplot(df[df[\"TARGET\"]==1][\"DAYS_BIRTH\"]/-365, color = 'blue', label = 'target == 1')\n",
    "sns.kdeplot(df[df[\"TARGET\"]==0][\"DAYS_BIRTH\"]/-365, color = 'red', label = 'target == 0')\n",
    "plt.xlabel('Age')\n",
    "plt.ylabel('Kecenderungan')\n",
    "plt.plot()"
   ]
  },
  {
   "cell_type": "markdown",
   "metadata": {},
   "source": [
    "**12. Eksplore Variabel Lama Bekerja**"
   ]
  },
  {
   "cell_type": "code",
   "execution_count": 41,
   "metadata": {},
   "outputs": [
    {
     "data": {
      "text/plain": [
       "count   307511.00\n",
       "mean       174.84\n",
       "std        387.06\n",
       "min        -49.07\n",
       "25%         -7.56\n",
       "50%         -3.32\n",
       "75%         -0.79\n",
       "max       1000.67\n",
       "Name: DAYS_EMPLOYED, dtype: float64"
      ]
     },
     "execution_count": 41,
     "metadata": {},
     "output_type": "execute_result"
    }
   ],
   "source": [
    "(df['DAYS_EMPLOYED']/365).describe()"
   ]
  },
  {
   "cell_type": "markdown",
   "metadata": {},
   "source": [
    "Lama Bekerja Sampai dengan 1000 tahun?"
   ]
  },
  {
   "cell_type": "code",
   "execution_count": 42,
   "metadata": {},
   "outputs": [
    {
     "data": {
      "text/plain": [
       "55374"
      ]
     },
     "execution_count": 42,
     "metadata": {},
     "output_type": "execute_result"
    }
   ],
   "source": [
    "anomali = df[(df['DAYS_EMPLOYED']==365243)]\n",
    "len(anomali)"
   ]
  },
  {
   "cell_type": "markdown",
   "metadata": {},
   "source": [
    "Ada 55k data dengan anomali"
   ]
  },
  {
   "cell_type": "code",
   "execution_count": 43,
   "metadata": {},
   "outputs": [],
   "source": [
    "df['DAYS_EMPLOYED'] = df['DAYS_EMPLOYED'].replace({365243: np.nan})"
   ]
  },
  {
   "cell_type": "code",
   "execution_count": 44,
   "metadata": {},
   "outputs": [
    {
     "data": {
      "text/plain": [
       "0"
      ]
     },
     "execution_count": 44,
     "metadata": {},
     "output_type": "execute_result"
    }
   ],
   "source": [
    "anomali = df[(df['DAYS_EMPLOYED']/365>=900)]\n",
    "len(anomali)"
   ]
  },
  {
   "cell_type": "code",
   "execution_count": 45,
   "metadata": {},
   "outputs": [
    {
     "data": {
      "text/plain": [
       "count   252137.00\n",
       "mean         6.53\n",
       "std          6.41\n",
       "min         -0.00\n",
       "25%          2.10\n",
       "50%          4.52\n",
       "75%          8.70\n",
       "max         49.07\n",
       "Name: DAYS_EMPLOYED, dtype: float64"
      ]
     },
     "execution_count": 45,
     "metadata": {},
     "output_type": "execute_result"
    }
   ],
   "source": [
    "(df['DAYS_EMPLOYED']/-365).describe()"
   ]
  },
  {
   "cell_type": "code",
   "execution_count": 46,
   "metadata": {
    "_uuid": "d1d9b825f10c1b5881a145a52dcce56e30927ef9"
   },
   "outputs": [
    {
     "data": {
      "image/png": "[encoded data removed]",
      "text/plain": [
       "<Figure size 432x288 with 2 Axes>"
      ]
     },
     "metadata": {
      "needs_background": "light"
     },
     "output_type": "display_data"
    }
   ],
   "source": [
    "fig, (ax1, ax2) = plt.subplots(1, 2)\n",
    "sns.distplot(df[\"DAYS_EMPLOYED\"]/-365, color = 'blue', ax = ax1)\n",
    "sns.boxplot(x=df[\"DAYS_EMPLOYED\"]/-365, ax = ax2)\n",
    "plt.show()"
   ]
  },
  {
   "cell_type": "code",
   "execution_count": 47,
   "metadata": {
    "_uuid": "dd98dd5b9f7dd2979b465ba3d7594f4793e84a4a"
   },
   "outputs": [
    {
     "data": {
      "text/plain": [
       "[]"
      ]
     },
     "execution_count": 47,
     "metadata": {},
     "output_type": "execute_result"
    },
    {
     "data": {
      "image/png": "[encoded data removed]",
      "text/plain": [
       "<Figure size 432x288 with 1 Axes>"
      ]
     },
     "metadata": {
      "needs_background": "light"
     },
     "output_type": "display_data"
    }
   ],
   "source": [
    "sns.kdeplot(df[df[\"TARGET\"]==1][\"DAYS_EMPLOYED\"]/-365, color = 'blue', label = 'target == 1')\n",
    "sns.kdeplot(df[df[\"TARGET\"]==0][\"DAYS_EMPLOYED\"]/-365, color = 'red', label = 'target == 0')\n",
    "plt.xlabel('Lama Bekerja')\n",
    "plt.ylabel('Kecenderungan')\n",
    "plt.plot()"
   ]
  },
  {
   "cell_type": "markdown",
   "metadata": {},
   "source": [
    "========================================================================================================================"
   ]
  },
  {
   "cell_type": "markdown",
   "metadata": {},
   "source": [
    "## Data Cleansing"
   ]
  },
  {
   "cell_type": "markdown",
   "metadata": {},
   "source": [
    "Karena banyak data yang memiliki missing kolom, maka akan di impute dengan median untuk variable continous dan mode untuk variabel categorical"
   ]
  },
  {
   "cell_type": "markdown",
   "metadata": {},
   "source": [
    "Memisah Variabel Categorical & Continous"
   ]
  },
  {
   "cell_type": "markdown",
   "metadata": {},
   "source": [
    "Impute Missing Value Pada Variabel Numeric dengan Median"
   ]
  },
  {
   "cell_type": "markdown",
   "metadata": {},
   "source": [
    "**Menggabungkan Dataset train dan test**"
   ]
  },
  {
   "cell_type": "code",
   "execution_count": 48,
   "metadata": {},
   "outputs": [],
   "source": [
    "df[\"source\"] = \"train\"\n",
    "df_test[\"source\"] = \"test\""
   ]
  },
  {
   "cell_type": "code",
   "execution_count": 49,
   "metadata": {},
   "outputs": [
    {
     "data": {
      "text/plain": [
       "SK_ID_CURR                        0\n",
       "TARGET                        48744\n",
       "NAME_CONTRACT_TYPE                0\n",
       "CODE_GENDER                       0\n",
       "FLAG_OWN_CAR                      0\n",
       "                              ...  \n",
       "AMT_REQ_CREDIT_BUREAU_WEEK    47568\n",
       "AMT_REQ_CREDIT_BUREAU_MON     47568\n",
       "AMT_REQ_CREDIT_BUREAU_QRT     47568\n",
       "AMT_REQ_CREDIT_BUREAU_YEAR    47568\n",
       "source                            0\n",
       "Length: 123, dtype: int64"
      ]
     },
     "execution_count": 49,
     "metadata": {},
     "output_type": "execute_result"
    }
   ],
   "source": [
    "df_grp = pd.concat([df, df_test], axis=0, ignore_index=True)\n",
    "df_grp.isnull().sum()"
   ]
  },
  {
   "cell_type": "code",
   "execution_count": 50,
   "metadata": {
    "scrolled": true
   },
   "outputs": [
    {
     "data": {
      "text/plain": [
       "['SK_ID_CURR',\n",
       " 'CNT_CHILDREN',\n",
       " 'AMT_INCOME_TOTAL',\n",
       " 'AMT_CREDIT',\n",
       " 'AMT_ANNUITY',\n",
       " 'AMT_GOODS_PRICE',\n",
       " 'REGION_POPULATION_RELATIVE',\n",
       " 'DAYS_BIRTH',\n",
       " 'DAYS_EMPLOYED',\n",
       " 'DAYS_REGISTRATION',\n",
       " 'DAYS_ID_PUBLISH',\n",
       " 'OWN_CAR_AGE',\n",
       " 'FLAG_MOBIL',\n",
       " 'FLAG_EMP_PHONE',\n",
       " 'FLAG_WORK_PHONE',\n",
       " 'FLAG_CONT_MOBILE',\n",
       " 'FLAG_PHONE',\n",
       " 'FLAG_EMAIL',\n",
       " 'CNT_FAM_MEMBERS',\n",
       " 'REGION_RATING_CLIENT',\n",
       " 'REGION_RATING_CLIENT_W_CITY',\n",
       " 'HOUR_APPR_PROCESS_START',\n",
       " 'REG_REGION_NOT_LIVE_REGION',\n",
       " 'REG_REGION_NOT_WORK_REGION',\n",
       " 'LIVE_REGION_NOT_WORK_REGION',\n",
       " 'REG_CITY_NOT_LIVE_CITY',\n",
       " 'REG_CITY_NOT_WORK_CITY',\n",
       " 'LIVE_CITY_NOT_WORK_CITY',\n",
       " 'EXT_SOURCE_1',\n",
       " 'EXT_SOURCE_2',\n",
       " 'EXT_SOURCE_3',\n",
       " 'APARTMENTS_AVG',\n",
       " 'BASEMENTAREA_AVG',\n",
       " 'YEARS_BEGINEXPLUATATION_AVG',\n",
       " 'YEARS_BUILD_AVG',\n",
       " 'COMMONAREA_AVG',\n",
       " 'ELEVATORS_AVG',\n",
       " 'ENTRANCES_AVG',\n",
       " 'FLOORSMAX_AVG',\n",
       " 'FLOORSMIN_AVG',\n",
       " 'LANDAREA_AVG',\n",
       " 'LIVINGAPARTMENTS_AVG',\n",
       " 'LIVINGAREA_AVG',\n",
       " 'NONLIVINGAPARTMENTS_AVG',\n",
       " 'NONLIVINGAREA_AVG',\n",
       " 'APARTMENTS_MODE',\n",
       " 'BASEMENTAREA_MODE',\n",
       " 'YEARS_BEGINEXPLUATATION_MODE',\n",
       " 'YEARS_BUILD_MODE',\n",
       " 'COMMONAREA_MODE',\n",
       " 'ELEVATORS_MODE',\n",
       " 'ENTRANCES_MODE',\n",
       " 'FLOORSMAX_MODE',\n",
       " 'FLOORSMIN_MODE',\n",
       " 'LANDAREA_MODE',\n",
       " 'LIVINGAPARTMENTS_MODE',\n",
       " 'LIVINGAREA_MODE',\n",
       " 'NONLIVINGAPARTMENTS_MODE',\n",
       " 'NONLIVINGAREA_MODE',\n",
       " 'APARTMENTS_MEDI',\n",
       " 'BASEMENTAREA_MEDI',\n",
       " 'YEARS_BEGINEXPLUATATION_MEDI',\n",
       " 'YEARS_BUILD_MEDI',\n",
       " 'COMMONAREA_MEDI',\n",
       " 'ELEVATORS_MEDI',\n",
       " 'ENTRANCES_MEDI',\n",
       " 'FLOORSMAX_MEDI',\n",
       " 'FLOORSMIN_MEDI',\n",
       " 'LANDAREA_MEDI',\n",
       " 'LIVINGAPARTMENTS_MEDI',\n",
       " 'LIVINGAREA_MEDI',\n",
       " 'NONLIVINGAPARTMENTS_MEDI',\n",
       " 'NONLIVINGAREA_MEDI',\n",
       " 'TOTALAREA_MODE',\n",
       " 'OBS_30_CNT_SOCIAL_CIRCLE',\n",
       " 'DEF_30_CNT_SOCIAL_CIRCLE',\n",
       " 'OBS_60_CNT_SOCIAL_CIRCLE',\n",
       " 'DEF_60_CNT_SOCIAL_CIRCLE',\n",
       " 'DAYS_LAST_PHONE_CHANGE',\n",
       " 'FLAG_DOCUMENT_2',\n",
       " 'FLAG_DOCUMENT_3',\n",
       " 'FLAG_DOCUMENT_4',\n",
       " 'FLAG_DOCUMENT_5',\n",
       " 'FLAG_DOCUMENT_6',\n",
       " 'FLAG_DOCUMENT_7',\n",
       " 'FLAG_DOCUMENT_8',\n",
       " 'FLAG_DOCUMENT_9',\n",
       " 'FLAG_DOCUMENT_10',\n",
       " 'FLAG_DOCUMENT_11',\n",
       " 'FLAG_DOCUMENT_12',\n",
       " 'FLAG_DOCUMENT_13',\n",
       " 'FLAG_DOCUMENT_14',\n",
       " 'FLAG_DOCUMENT_15',\n",
       " 'FLAG_DOCUMENT_16',\n",
       " 'FLAG_DOCUMENT_17',\n",
       " 'FLAG_DOCUMENT_18',\n",
       " 'FLAG_DOCUMENT_19',\n",
       " 'FLAG_DOCUMENT_20',\n",
       " 'FLAG_DOCUMENT_21',\n",
       " 'AMT_REQ_CREDIT_BUREAU_HOUR',\n",
       " 'AMT_REQ_CREDIT_BUREAU_DAY',\n",
       " 'AMT_REQ_CREDIT_BUREAU_WEEK',\n",
       " 'AMT_REQ_CREDIT_BUREAU_MON',\n",
       " 'AMT_REQ_CREDIT_BUREAU_QRT',\n",
       " 'AMT_REQ_CREDIT_BUREAU_YEAR']"
      ]
     },
     "execution_count": 50,
     "metadata": {},
     "output_type": "execute_result"
    }
   ],
   "source": [
    "numerical_vars = [f for f in df_grp.columns if f!='TARGET' and f!='source' and df_grp[f].dtype!=\"object\"]\n",
    "numerical_vars"
   ]
  },
  {
   "cell_type": "code",
   "execution_count": 51,
   "metadata": {},
   "outputs": [
    {
     "data": {
      "text/plain": [
       "['NAME_CONTRACT_TYPE',\n",
       " 'CODE_GENDER',\n",
       " 'FLAG_OWN_CAR',\n",
       " 'FLAG_OWN_REALTY',\n",
       " 'NAME_TYPE_SUITE',\n",
       " 'NAME_INCOME_TYPE',\n",
       " 'NAME_EDUCATION_TYPE',\n",
       " 'NAME_FAMILY_STATUS',\n",
       " 'NAME_HOUSING_TYPE',\n",
       " 'OCCUPATION_TYPE',\n",
       " 'WEEKDAY_APPR_PROCESS_START',\n",
       " 'ORGANIZATION_TYPE',\n",
       " 'FONDKAPREMONT_MODE',\n",
       " 'HOUSETYPE_MODE',\n",
       " 'WALLSMATERIAL_MODE',\n",
       " 'EMERGENCYSTATE_MODE']"
      ]
     },
     "execution_count": 51,
     "metadata": {},
     "output_type": "execute_result"
    }
   ],
   "source": [
    "categorical_vars = [f for f in df_grp.columns if f!='TARGET' and f!='source' and df_grp[f].dtype==\"object\"]\n",
    "categorical_vars"
   ]
  },
  {
   "cell_type": "code",
   "execution_count": 52,
   "metadata": {
    "_uuid": "bdb89eff1ef56ad87aa020048b8a2e2cd0fddc01"
   },
   "outputs": [],
   "source": [
    "numeric_cols_with_missing_vals = df_grp[numerical_vars].isnull().sum()[df_grp[numerical_vars].isnull().sum() > 0].index.tolist()\n",
    "categorical_cols_with_missing_vals = df_grp[categorical_vars].isnull().sum()[df_grp[categorical_vars].isnull().sum() > 0].index.tolist()"
   ]
  },
  {
   "cell_type": "markdown",
   "metadata": {},
   "source": [
    "**Impute Missing Value Pada Variabel Numerical dengan Median**"
   ]
  },
  {
   "cell_type": "code",
   "execution_count": 53,
   "metadata": {
    "_uuid": "4594d811da20e017a4ac60378b726ee447fdfa56"
   },
   "outputs": [],
   "source": [
    "for f in numeric_cols_with_missing_vals:\n",
    "    df_grp[f] = df_grp[f].replace(np.nan, np.median(df[f].dropna()))"
   ]
  },
  {
   "cell_type": "markdown",
   "metadata": {
    "_uuid": "caf9055ba4213288cb5c304a5cdf8899d73bc382"
   },
   "source": [
    "**Impute Missing Value Pada Variabel Categorical dengan Mode**"
   ]
  },
  {
   "cell_type": "code",
   "execution_count": 54,
   "metadata": {
    "_uuid": "7428ee65409429074f6b65996605ef4e3093e80f"
   },
   "outputs": [],
   "source": [
    "for f in categorical_cols_with_missing_vals:\n",
    "    max_count = df_grp[f].value_counts().idxmax()\n",
    "    df_grp[f] = df_grp[f].fillna(max_count)"
   ]
  },
  {
   "cell_type": "code",
   "execution_count": 55,
   "metadata": {},
   "outputs": [
    {
     "data": {
      "text/plain": [
       "SK_ID_CURR                        0\n",
       "TARGET                        48744\n",
       "NAME_CONTRACT_TYPE                0\n",
       "CODE_GENDER                       0\n",
       "FLAG_OWN_CAR                      0\n",
       "                              ...  \n",
       "AMT_REQ_CREDIT_BUREAU_WEEK        0\n",
       "AMT_REQ_CREDIT_BUREAU_MON         0\n",
       "AMT_REQ_CREDIT_BUREAU_QRT         0\n",
       "AMT_REQ_CREDIT_BUREAU_YEAR        0\n",
       "source                            0\n",
       "Length: 123, dtype: int64"
      ]
     },
     "execution_count": 55,
     "metadata": {},
     "output_type": "execute_result"
    }
   ],
   "source": [
    "df_grp.isnull().sum()"
   ]
  },
  {
   "cell_type": "markdown",
   "metadata": {},
   "source": [
    "## Feature Enginering"
   ]
  },
  {
   "cell_type": "code",
   "execution_count": 56,
   "metadata": {},
   "outputs": [],
   "source": [
    "df_grp['CREDIT_TO_INCOME'] = df_grp['AMT_CREDIT'] / df_grp['AMT_INCOME_TOTAL']"
   ]
  },
  {
   "cell_type": "code",
   "execution_count": 57,
   "metadata": {},
   "outputs": [],
   "source": [
    "df_grp['INC_PER_FAM'] = df_grp['AMT_INCOME_TOTAL'] / (df_grp['CNT_FAM_MEMBERS'])"
   ]
  },
  {
   "cell_type": "code",
   "execution_count": 58,
   "metadata": {},
   "outputs": [],
   "source": [
    "df_grp['DAYS_START_WORKING'] = df_grp['DAYS_BIRTH'] - df_grp['DAYS_EMPLOYED']"
   ]
  },
  {
   "cell_type": "markdown",
   "metadata": {
    "_uuid": "ea65966286b0ff29137be10eaa7f2ddb4300a108"
   },
   "source": [
    "## Handling categorical variables"
   ]
  },
  {
   "cell_type": "code",
   "execution_count": 59,
   "metadata": {
    "_uuid": "3b2f1460030083036ebb0eb66aa3a6ca55c4ce6b"
   },
   "outputs": [
    {
     "data": {
      "text/plain": [
       "(356255, 250)"
      ]
     },
     "execution_count": 59,
     "metadata": {},
     "output_type": "execute_result"
    }
   ],
   "source": [
    "# dummies = pd.get_dummies(train_test.loc[:, dummy_colnames])\n",
    "# train_test = pd.concat([train_test, dummies], axis=1)\n",
    "\n",
    "dummies = pd.get_dummies(df_grp[categorical_vars])\n",
    "df_grp = pd.concat([df_grp, dummies], axis=1)\n",
    "df_grp = df_grp.drop(categorical_vars, axis=1)\n",
    "df_grp.shape"
   ]
  },
  {
   "cell_type": "code",
   "execution_count": 60,
   "metadata": {
    "_uuid": "8405710149cce948a670926d4948a3a27d6aa719",
    "scrolled": false
   },
   "outputs": [
    {
     "data": {
      "text/html": [
       "<div>\n",
       "<style scoped>\n",
       "    .dataframe tbody tr th:only-of-type {\n",
       "        vertical-align: middle;\n",
       "    }\n",
       "\n",
       "    .dataframe tbody tr th {\n",
       "        vertical-align: top;\n",
       "    }\n",
       "\n",
       "    .dataframe thead th {\n",
       "        text-align: right;\n",
       "    }\n",
       "</style>\n",
       "<table border=\"1\" class=\"dataframe\">\n",
       "  <thead>\n",
       "    <tr style=\"text-align: right;\">\n",
       "      <th></th>\n",
       "      <th>SK_ID_CURR</th>\n",
       "      <th>TARGET</th>\n",
       "      <th>CNT_CHILDREN</th>\n",
       "      <th>AMT_INCOME_TOTAL</th>\n",
       "      <th>AMT_CREDIT</th>\n",
       "      <th>AMT_ANNUITY</th>\n",
       "      <th>AMT_GOODS_PRICE</th>\n",
       "      <th>REGION_POPULATION_RELATIVE</th>\n",
       "      <th>DAYS_BIRTH</th>\n",
       "      <th>DAYS_EMPLOYED</th>\n",
       "      <th>...</th>\n",
       "      <th>HOUSETYPE_MODE_terraced house</th>\n",
       "      <th>WALLSMATERIAL_MODE_Block</th>\n",
       "      <th>WALLSMATERIAL_MODE_Mixed</th>\n",
       "      <th>WALLSMATERIAL_MODE_Monolithic</th>\n",
       "      <th>WALLSMATERIAL_MODE_Others</th>\n",
       "      <th>WALLSMATERIAL_MODE_Panel</th>\n",
       "      <th>WALLSMATERIAL_MODE_Stone, brick</th>\n",
       "      <th>WALLSMATERIAL_MODE_Wooden</th>\n",
       "      <th>EMERGENCYSTATE_MODE_No</th>\n",
       "      <th>EMERGENCYSTATE_MODE_Yes</th>\n",
       "    </tr>\n",
       "  </thead>\n",
       "  <tbody>\n",
       "    <tr>\n",
       "      <th>0</th>\n",
       "      <td>100002</td>\n",
       "      <td>1.00</td>\n",
       "      <td>0</td>\n",
       "      <td>202500.00</td>\n",
       "      <td>406597.50</td>\n",
       "      <td>24700.50</td>\n",
       "      <td>351000.00</td>\n",
       "      <td>0.02</td>\n",
       "      <td>-9461</td>\n",
       "      <td>-637.00</td>\n",
       "      <td>...</td>\n",
       "      <td>0</td>\n",
       "      <td>0</td>\n",
       "      <td>0</td>\n",
       "      <td>0</td>\n",
       "      <td>0</td>\n",
       "      <td>0</td>\n",
       "      <td>1</td>\n",
       "      <td>0</td>\n",
       "      <td>1</td>\n",
       "      <td>0</td>\n",
       "    </tr>\n",
       "    <tr>\n",
       "      <th>1</th>\n",
       "      <td>100003</td>\n",
       "      <td>0.00</td>\n",
       "      <td>0</td>\n",
       "      <td>270000.00</td>\n",
       "      <td>1293502.50</td>\n",
       "      <td>35698.50</td>\n",
       "      <td>1129500.00</td>\n",
       "      <td>0.00</td>\n",
       "      <td>-16765</td>\n",
       "      <td>-1188.00</td>\n",
       "      <td>...</td>\n",
       "      <td>0</td>\n",
       "      <td>1</td>\n",
       "      <td>0</td>\n",
       "      <td>0</td>\n",
       "      <td>0</td>\n",
       "      <td>0</td>\n",
       "      <td>0</td>\n",
       "      <td>0</td>\n",
       "      <td>1</td>\n",
       "      <td>0</td>\n",
       "    </tr>\n",
       "    <tr>\n",
       "      <th>2</th>\n",
       "      <td>100004</td>\n",
       "      <td>0.00</td>\n",
       "      <td>0</td>\n",
       "      <td>67500.00</td>\n",
       "      <td>135000.00</td>\n",
       "      <td>6750.00</td>\n",
       "      <td>135000.00</td>\n",
       "      <td>0.01</td>\n",
       "      <td>-19046</td>\n",
       "      <td>-225.00</td>\n",
       "      <td>...</td>\n",
       "      <td>0</td>\n",
       "      <td>0</td>\n",
       "      <td>0</td>\n",
       "      <td>0</td>\n",
       "      <td>0</td>\n",
       "      <td>1</td>\n",
       "      <td>0</td>\n",
       "      <td>0</td>\n",
       "      <td>1</td>\n",
       "      <td>0</td>\n",
       "    </tr>\n",
       "    <tr>\n",
       "      <th>3</th>\n",
       "      <td>100006</td>\n",
       "      <td>0.00</td>\n",
       "      <td>0</td>\n",
       "      <td>135000.00</td>\n",
       "      <td>312682.50</td>\n",
       "      <td>29686.50</td>\n",
       "      <td>297000.00</td>\n",
       "      <td>0.01</td>\n",
       "      <td>-19005</td>\n",
       "      <td>-3039.00</td>\n",
       "      <td>...</td>\n",
       "      <td>0</td>\n",
       "      <td>0</td>\n",
       "      <td>0</td>\n",
       "      <td>0</td>\n",
       "      <td>0</td>\n",
       "      <td>1</td>\n",
       "      <td>0</td>\n",
       "      <td>0</td>\n",
       "      <td>1</td>\n",
       "      <td>0</td>\n",
       "    </tr>\n",
       "    <tr>\n",
       "      <th>4</th>\n",
       "      <td>100007</td>\n",
       "      <td>0.00</td>\n",
       "      <td>0</td>\n",
       "      <td>121500.00</td>\n",
       "      <td>513000.00</td>\n",
       "      <td>21865.50</td>\n",
       "      <td>513000.00</td>\n",
       "      <td>0.03</td>\n",
       "      <td>-19932</td>\n",
       "      <td>-3038.00</td>\n",
       "      <td>...</td>\n",
       "      <td>0</td>\n",
       "      <td>0</td>\n",
       "      <td>0</td>\n",
       "      <td>0</td>\n",
       "      <td>0</td>\n",
       "      <td>1</td>\n",
       "      <td>0</td>\n",
       "      <td>0</td>\n",
       "      <td>1</td>\n",
       "      <td>0</td>\n",
       "    </tr>\n",
       "  </tbody>\n",
       "</table>\n",
       "<p>5 rows × 250 columns</p>\n",
       "</div>"
      ],
      "text/plain": [
       "   SK_ID_CURR  TARGET  CNT_CHILDREN  AMT_INCOME_TOTAL  AMT_CREDIT  \\\n",
       "0      100002    1.00             0         202500.00   406597.50   \n",
       "1      100003    0.00             0         270000.00  1293502.50   \n",
       "2      100004    0.00             0          67500.00   135000.00   \n",
       "3      100006    0.00             0         135000.00   312682.50   \n",
       "4      100007    0.00             0         121500.00   513000.00   \n",
       "\n",
       "   AMT_ANNUITY  AMT_GOODS_PRICE  REGION_POPULATION_RELATIVE  DAYS_BIRTH  \\\n",
       "0     24700.50        351000.00                        0.02       -9461   \n",
       "1     35698.50       1129500.00                        0.00      -16765   \n",
       "2      6750.00        135000.00                        0.01      -19046   \n",
       "3     29686.50        297000.00                        0.01      -19005   \n",
       "4     21865.50        513000.00                        0.03      -19932   \n",
       "\n",
       "   DAYS_EMPLOYED  ...  HOUSETYPE_MODE_terraced house  \\\n",
       "0        -637.00  ...                              0   \n",
       "1       -1188.00  ...                              0   \n",
       "2        -225.00  ...                              0   \n",
       "3       -3039.00  ...                              0   \n",
       "4       -3038.00  ...                              0   \n",
       "\n",
       "   WALLSMATERIAL_MODE_Block  WALLSMATERIAL_MODE_Mixed  \\\n",
       "0                         0                         0   \n",
       "1                         1                         0   \n",
       "2                         0                         0   \n",
       "3                         0                         0   \n",
       "4                         0                         0   \n",
       "\n",
       "   WALLSMATERIAL_MODE_Monolithic  WALLSMATERIAL_MODE_Others  \\\n",
       "0                              0                          0   \n",
       "1                              0                          0   \n",
       "2                              0                          0   \n",
       "3                              0                          0   \n",
       "4                              0                          0   \n",
       "\n",
       "   WALLSMATERIAL_MODE_Panel  WALLSMATERIAL_MODE_Stone, brick  \\\n",
       "0                         0                                1   \n",
       "1                         0                                0   \n",
       "2                         1                                0   \n",
       "3                         1                                0   \n",
       "4                         1                                0   \n",
       "\n",
       "   WALLSMATERIAL_MODE_Wooden  EMERGENCYSTATE_MODE_No  EMERGENCYSTATE_MODE_Yes  \n",
       "0                          0                       1                        0  \n",
       "1                          0                       1                        0  \n",
       "2                          0                       1                        0  \n",
       "3                          0                       1                        0  \n",
       "4                          0                       1                        0  \n",
       "\n",
       "[5 rows x 250 columns]"
      ]
     },
     "execution_count": 60,
     "metadata": {},
     "output_type": "execute_result"
    }
   ],
   "source": [
    "df_grp.head()"
   ]
  },
  {
   "cell_type": "markdown",
   "metadata": {},
   "source": [
    "## Splitting Dataset"
   ]
  },
  {
   "cell_type": "code",
   "execution_count": 61,
   "metadata": {
    "_uuid": "8dc7b379ca5194af18c401deeb55995328c48f9b"
   },
   "outputs": [],
   "source": [
    "train = df_grp[df_grp[\"source\"] == 'train']\n",
    "test = df_grp[df_grp[\"source\"] == 'test']"
   ]
  },
  {
   "cell_type": "code",
   "execution_count": 62,
   "metadata": {
    "_uuid": "657da36bf8d650ea12998b6ee280d8816f8858a3"
   },
   "outputs": [],
   "source": [
    "x = train.drop([\"source\", \"TARGET\", \"SK_ID_CURR\"], axis=1)\n",
    "y = train[\"TARGET\"]\n",
    "app_test = test.drop([\"source\", \"TARGET\", 'SK_ID_CURR'], axis=1)"
   ]
  },
  {
   "cell_type": "code",
   "execution_count": 63,
   "metadata": {},
   "outputs": [],
   "source": [
    "x = x.rename(columns = lambda x:re.sub('[^A-Za-z0-9_]+', '', x))"
   ]
  },
  {
   "cell_type": "markdown",
   "metadata": {},
   "source": [
    "***Splitting train and test***"
   ]
  },
  {
   "cell_type": "code",
   "execution_count": 64,
   "metadata": {},
   "outputs": [],
   "source": [
    "x_train, x_test, y_train, y_test = train_test_split(x, y, test_size=0.2, random_state=42)"
   ]
  },
  {
   "cell_type": "code",
   "execution_count": 65,
   "metadata": {},
   "outputs": [
    {
     "name": "stdout",
     "output_type": "stream",
     "text": [
      "Jumlah baris dan kolom dari x_train adalah: (246008, 247) , sedangkan Jumlah baris dan kolom dari y_train adalah: (246008,)\n",
      "Prosentase Default di data Training adalah:\n",
      "0.00    226132\n",
      "1.00     19876\n",
      "Name: TARGET, dtype: int64\n",
      "Jumlah baris dan kolom dari x_test adalah: (61503, 247) , sedangkan Jumlah baris dan kolom dari y_test adalah: (61503,)\n",
      "Prosentase Default di data Testing adalah:\n",
      "0.00    56554\n",
      "1.00     4949\n",
      "Name: TARGET, dtype: int64\n"
     ]
    }
   ],
   "source": [
    "# Print according to the expected result\n",
    "print('Jumlah baris dan kolom dari x_train adalah:', x_train.shape,', sedangkan Jumlah baris dan kolom dari y_train adalah:', y_train.shape)\n",
    "print('Prosentase Default di data Training adalah:')\n",
    "print(y_train.value_counts())\n",
    "print('Jumlah baris dan kolom dari x_test adalah:', x_test.shape,', sedangkan Jumlah baris dan kolom dari y_test adalah:', y_test.shape)\n",
    "print('Prosentase Default di data Testing adalah:')\n",
    "print(y_test.value_counts())"
   ]
  },
  {
   "cell_type": "markdown",
   "metadata": {},
   "source": [
    "## Modelling : Logistic Regression\n",
    "### Pembuatan Model\n",
    "Membuat model dengan menggunakan Algoritma **Logistic Regression**."
   ]
  },
  {
   "cell_type": "code",
   "execution_count": 66,
   "metadata": {},
   "outputs": [
    {
     "name": "stdout",
     "output_type": "stream",
     "text": [
      "Model Logistic Regression yang terbentuk adalah: \n",
      " LogisticRegression()\n"
     ]
    }
   ],
   "source": [
    "log_model = LogisticRegression().fit(x_train, y_train)\n",
    "print('Model Logistic Regression yang terbentuk adalah: \\n',log_model)"
   ]
  },
  {
   "cell_type": "markdown",
   "metadata": {},
   "source": [
    "### Performansi Model Training - Menampilkan Metrics\n",
    "Setelah kita membuat modelnya, maka lakukan perhitungan untuk memperoleh classification reportnya dan confusion matrixnya di data training seperti hasil di bawah ini. Gunakan **`classification_report()`** & **`confusion_matrix()`**."
   ]
  },
  {
   "cell_type": "code",
   "execution_count": 67,
   "metadata": {},
   "outputs": [
    {
     "name": "stdout",
     "output_type": "stream",
     "text": [
      "Classification Report Training Model (Logistic Regression) :\n",
      "              precision    recall  f1-score   support\n",
      "\n",
      "         0.0       0.92      1.00      0.96    226132\n",
      "         1.0       0.00      0.00      0.00     19876\n",
      "\n",
      "    accuracy                           0.92    246008\n",
      "   macro avg       0.46      0.50      0.48    246008\n",
      "weighted avg       0.84      0.92      0.88    246008\n",
      "\n",
      "The accuracy in general is :  0.9192018145751357\n"
     ]
    }
   ],
   "source": [
    "# Predict\n",
    "y_train_pred = log_model.predict(x_train)\n",
    "\n",
    "# Print classification report\n",
    "print('Classification Report Training Model (Logistic Regression) :')\n",
    "print(classification_report(y_train, y_train_pred))\n",
    "print(\"The accuracy in general is : \", accuracy_score(y_train,y_train_pred))"
   ]
  },
  {
   "cell_type": "markdown",
   "metadata": {},
   "source": [
    "### Performansi Model Training - Menampilkan Plots\n",
    "Setelah mendapatkan hasil classification report pada tahap sebelumnya, sekarang kita akan melakukan visualisasi terhadap report tersebut. "
   ]
  },
  {
   "cell_type": "code",
   "execution_count": 68,
   "metadata": {},
   "outputs": [
    {
     "data": {
      "text/html": [
       "<div>\n",
       "<style scoped>\n",
       "    .dataframe tbody tr th:only-of-type {\n",
       "        vertical-align: middle;\n",
       "    }\n",
       "\n",
       "    .dataframe tbody tr th {\n",
       "        vertical-align: top;\n",
       "    }\n",
       "\n",
       "    .dataframe thead th {\n",
       "        text-align: right;\n",
       "    }\n",
       "</style>\n",
       "<table border=\"1\" class=\"dataframe\">\n",
       "  <thead>\n",
       "    <tr style=\"text-align: right;\">\n",
       "      <th></th>\n",
       "      <th>No Default</th>\n",
       "      <th>Default</th>\n",
       "    </tr>\n",
       "  </thead>\n",
       "  <tbody>\n",
       "    <tr>\n",
       "      <th>No Default</th>\n",
       "      <td>226131</td>\n",
       "      <td>1</td>\n",
       "    </tr>\n",
       "    <tr>\n",
       "      <th>Default</th>\n",
       "      <td>19876</td>\n",
       "      <td>0</td>\n",
       "    </tr>\n",
       "  </tbody>\n",
       "</table>\n",
       "</div>"
      ],
      "text/plain": [
       "            No Default  Default\n",
       "No Default      226131        1\n",
       "Default          19876        0"
      ]
     },
     "execution_count": 68,
     "metadata": {},
     "output_type": "execute_result"
    }
   ],
   "source": [
    "# Form confusion matrix as a DataFrame\n",
    "confusion_matrix_df = pd.DataFrame((confusion_matrix(y_train, y_train_pred)), ('No Default', 'Default'), ('No Default', 'Default'))\n",
    "confusion_matrix_df"
   ]
  },
  {
   "cell_type": "code",
   "execution_count": 69,
   "metadata": {},
   "outputs": [
    {
     "data": {
      "image/png": "[encoded data removed]",
      "text/plain": [
       "<Figure size 432x288 with 2 Axes>"
      ]
     },
     "metadata": {
      "needs_background": "light"
     },
     "output_type": "display_data"
    }
   ],
   "source": [
    "# Plot confusion matrix\n",
    "plt.figure()\n",
    "heatmap = sns.heatmap(confusion_matrix_df, annot=True, annot_kws={'size': 14}, fmt='d', cmap='YlGnBu')\n",
    "heatmap.yaxis.set_ticklabels(heatmap.yaxis.get_ticklabels(), rotation=0, ha='right', fontsize=14)\n",
    "heatmap.xaxis.set_ticklabels(heatmap.xaxis.get_ticklabels(), rotation=0, ha='right', fontsize=14)\n",
    "\n",
    "plt.title('Confusion Matrix for Training Model\\n(Logistic Regression)', fontsize=18, color='darkblue')\n",
    "plt.ylabel('True label', fontsize=14)\n",
    "plt.xlabel('Predicted label', fontsize=14)\n",
    "plt.show()"
   ]
  },
  {
   "cell_type": "markdown",
   "metadata": {},
   "source": [
    "### Performansi Data Testing - Menampilkan Metrics\n",
    "Maka lakukan perhitungan untuk memperoleh classification report dan confusion matrix di data testing"
   ]
  },
  {
   "cell_type": "code",
   "execution_count": 70,
   "metadata": {},
   "outputs": [
    {
     "name": "stdout",
     "output_type": "stream",
     "text": [
      "Classification Report Testing Model (Logistic Regression):\n",
      "              precision    recall  f1-score   support\n",
      "\n",
      "         0.0       0.92      1.00      0.96     56554\n",
      "         1.0       0.00      0.00      0.00      4949\n",
      "\n",
      "    accuracy                           0.92     61503\n",
      "   macro avg       0.46      0.50      0.48     61503\n",
      "weighted avg       0.85      0.92      0.88     61503\n",
      "\n",
      "The accuracy in general is :  0.9195161211648212\n"
     ]
    }
   ],
   "source": [
    "# Predict\n",
    "y_test_pred = log_model.predict(x_test)\n",
    "\n",
    "# Print classification report\n",
    "print('Classification Report Testing Model (Logistic Regression):')\n",
    "print(classification_report(y_test, y_test_pred))\n",
    "print(\"The accuracy in general is : \", accuracy_score(y_test,y_test_pred))"
   ]
  },
  {
   "cell_type": "markdown",
   "metadata": {},
   "source": [
    "### Performansi Data Testing - Menampilkan Plots\n",
    "Setelah menampilkan metrics pada tahap sebelumnya, sekarang kita akan melakukan visualisasi dari metrics yang sudah dihasilkan sebelumnya"
   ]
  },
  {
   "cell_type": "code",
   "execution_count": 71,
   "metadata": {},
   "outputs": [
    {
     "data": {
      "text/html": [
       "<div>\n",
       "<style scoped>\n",
       "    .dataframe tbody tr th:only-of-type {\n",
       "        vertical-align: middle;\n",
       "    }\n",
       "\n",
       "    .dataframe tbody tr th {\n",
       "        vertical-align: top;\n",
       "    }\n",
       "\n",
       "    .dataframe thead th {\n",
       "        text-align: right;\n",
       "    }\n",
       "</style>\n",
       "<table border=\"1\" class=\"dataframe\">\n",
       "  <thead>\n",
       "    <tr style=\"text-align: right;\">\n",
       "      <th></th>\n",
       "      <th>No Default</th>\n",
       "      <th>Default</th>\n",
       "    </tr>\n",
       "  </thead>\n",
       "  <tbody>\n",
       "    <tr>\n",
       "      <th>No Default</th>\n",
       "      <td>56553</td>\n",
       "      <td>1</td>\n",
       "    </tr>\n",
       "    <tr>\n",
       "      <th>Default</th>\n",
       "      <td>4949</td>\n",
       "      <td>0</td>\n",
       "    </tr>\n",
       "  </tbody>\n",
       "</table>\n",
       "</div>"
      ],
      "text/plain": [
       "            No Default  Default\n",
       "No Default       56553        1\n",
       "Default           4949        0"
      ]
     },
     "execution_count": 71,
     "metadata": {},
     "output_type": "execute_result"
    }
   ],
   "source": [
    "# Form confusion matrix as a DataFrame\n",
    "confusion_matrix_df = pd.DataFrame((confusion_matrix(y_test, y_test_pred)), ('No Default', 'Default'), ('No Default', 'Default'))\n",
    "confusion_matrix_df"
   ]
  },
  {
   "cell_type": "code",
   "execution_count": 72,
   "metadata": {},
   "outputs": [
    {
     "data": {
      "image/png": "[encoded data removed]",
      "text/plain": [
       "<Figure size 432x288 with 2 Axes>"
      ]
     },
     "metadata": {
      "needs_background": "light"
     },
     "output_type": "display_data"
    }
   ],
   "source": [
    "# Plot confusion matrix\n",
    "plt.figure()\n",
    "heatmap = sns.heatmap(confusion_matrix_df, annot=True, annot_kws={'size': 14}, fmt='d', cmap='YlGnBu')\n",
    "heatmap.yaxis.set_ticklabels(heatmap.yaxis.get_ticklabels(), rotation=0, ha='right', fontsize=14)\n",
    "heatmap.xaxis.set_ticklabels(heatmap.xaxis.get_ticklabels(), rotation=0, ha='right', fontsize=14)\n",
    "\n",
    "plt.title('Confusion Matrix for Testing Model\\n(Logistic Regression)\\n', fontsize=18, color='darkblue')\n",
    "plt.ylabel('True label', fontsize=14)\n",
    "plt.xlabel('Predicted label', fontsize=14)\n",
    "plt.show()"
   ]
  },
  {
   "cell_type": "markdown",
   "metadata": {},
   "source": [
    "## Modelling : Random Forest Classifier\n",
    "### Pembuatan Model\n",
    "Membuat model dengan menggunakan Algoritma **Random Forest Classifier**."
   ]
  },
  {
   "cell_type": "code",
   "execution_count": 73,
   "metadata": {},
   "outputs": [],
   "source": [
    "#Train the model\n",
    "rdf_model = RandomForestClassifier().fit(x_train, y_train)"
   ]
  },
  {
   "cell_type": "markdown",
   "metadata": {},
   "source": [
    "### Performansi Data Training - Menampilkan Metrics\n",
    "Melakukan perhitungan untuk memperoleh classification report dan confusion matrix di data training"
   ]
  },
  {
   "cell_type": "code",
   "execution_count": 74,
   "metadata": {},
   "outputs": [
    {
     "name": "stdout",
     "output_type": "stream",
     "text": [
      "Classification Report Training Model (Random Forest) :\n",
      "              precision    recall  f1-score   support\n",
      "\n",
      "         0.0       1.00      1.00      1.00    226132\n",
      "         1.0       1.00      1.00      1.00     19876\n",
      "\n",
      "    accuracy                           1.00    246008\n",
      "   macro avg       1.00      1.00      1.00    246008\n",
      "weighted avg       1.00      1.00      1.00    246008\n",
      "\n",
      "The accuracy in general is :  0.9999715456407922\n"
     ]
    }
   ],
   "source": [
    "y_train_pred = rdf_model.predict(x_train)\n",
    "\n",
    "print('Classification Report Training Model (Random Forest) :')\n",
    "print(classification_report(y_train, y_train_pred))\n",
    "print(\"The accuracy in general is : \", accuracy_score(y_train,y_train_pred))"
   ]
  },
  {
   "cell_type": "markdown",
   "metadata": {},
   "source": [
    "### Performansi Data Training - Menampilkan Plots\n",
    "Setelah menampilkan metrics pada tahap sebelumnya, selanjutnya kita akan melakukan visualisasi terhadap metrics tersebut "
   ]
  },
  {
   "cell_type": "code",
   "execution_count": 75,
   "metadata": {},
   "outputs": [
    {
     "data": {
      "text/html": [
       "<div>\n",
       "<style scoped>\n",
       "    .dataframe tbody tr th:only-of-type {\n",
       "        vertical-align: middle;\n",
       "    }\n",
       "\n",
       "    .dataframe tbody tr th {\n",
       "        vertical-align: top;\n",
       "    }\n",
       "\n",
       "    .dataframe thead th {\n",
       "        text-align: right;\n",
       "    }\n",
       "</style>\n",
       "<table border=\"1\" class=\"dataframe\">\n",
       "  <thead>\n",
       "    <tr style=\"text-align: right;\">\n",
       "      <th></th>\n",
       "      <th>No churn</th>\n",
       "      <th>Default</th>\n",
       "    </tr>\n",
       "  </thead>\n",
       "  <tbody>\n",
       "    <tr>\n",
       "      <th>No Default</th>\n",
       "      <td>226132</td>\n",
       "      <td>0</td>\n",
       "    </tr>\n",
       "    <tr>\n",
       "      <th>Default</th>\n",
       "      <td>7</td>\n",
       "      <td>19869</td>\n",
       "    </tr>\n",
       "  </tbody>\n",
       "</table>\n",
       "</div>"
      ],
      "text/plain": [
       "            No churn  Default\n",
       "No Default    226132        0\n",
       "Default            7    19869"
      ]
     },
     "execution_count": 75,
     "metadata": {},
     "output_type": "execute_result"
    }
   ],
   "source": [
    "# Form confusion matrix as a DataFrame\n",
    "confusion_matrix_df = pd.DataFrame((confusion_matrix(y_train, y_train_pred)), ('No Default', 'Default'), ('No churn', 'Default'))\n",
    "confusion_matrix_df"
   ]
  },
  {
   "cell_type": "code",
   "execution_count": 76,
   "metadata": {},
   "outputs": [
    {
     "data": {
      "image/png": "[encoded data removed]",
      "text/plain": [
       "<Figure size 432x288 with 2 Axes>"
      ]
     },
     "metadata": {
      "needs_background": "light"
     },
     "output_type": "display_data"
    }
   ],
   "source": [
    "# Plot confusion matrix\n",
    "plt.figure()\n",
    "heatmap = sns.heatmap(confusion_matrix_df, annot=True, annot_kws={'size': 14}, fmt='d', cmap='YlGnBu')\n",
    "heatmap.yaxis.set_ticklabels(heatmap.yaxis.get_ticklabels(), rotation=0, ha='right', fontsize=14)\n",
    "heatmap.xaxis.set_ticklabels(heatmap.xaxis.get_ticklabels(), rotation=0, ha='right', fontsize=14)\n",
    "\n",
    "plt.title('Confusion Matrix for Training Model\\n(Random Forest)', fontsize=18, color='darkblue')\n",
    "plt.ylabel('True label', fontsize=14)\n",
    "plt.xlabel('Predicted label', fontsize=14)\n",
    "plt.show()"
   ]
  },
  {
   "cell_type": "markdown",
   "metadata": {},
   "source": [
    "### Performansi Data Testing - Menampilkan Metrics\n",
    "Melakukan perhitungan untuk memperoleh classification report dan confusion matrix di data testing"
   ]
  },
  {
   "cell_type": "code",
   "execution_count": 77,
   "metadata": {},
   "outputs": [
    {
     "name": "stdout",
     "output_type": "stream",
     "text": [
      "Classification Report Testing Model (Random Forest Classifier):\n",
      "              precision    recall  f1-score   support\n",
      "\n",
      "         0.0       0.92      1.00      0.96     56554\n",
      "         1.0       0.75      0.00      0.00      4949\n",
      "\n",
      "    accuracy                           0.92     61503\n",
      "   macro avg       0.83      0.50      0.48     61503\n",
      "weighted avg       0.91      0.92      0.88     61503\n",
      "\n",
      "The accuracy in general is :  0.9195648992732062\n"
     ]
    }
   ],
   "source": [
    "# Predict\n",
    "y_test_pred = rdf_model.predict(x_test)\n",
    "\n",
    "# Print classification report\n",
    "print('Classification Report Testing Model (Random Forest Classifier):')\n",
    "print(classification_report(y_test, y_test_pred))\n",
    "print(\"The accuracy in general is : \", accuracy_score(y_test,y_test_pred))"
   ]
  },
  {
   "cell_type": "markdown",
   "metadata": {},
   "source": [
    "### Performansi Data Testing - Menampilkan Plots\n",
    "Tampilkan visualisasi dari hasil metrics yang sudah diperoleh pada tahap sebelumnya"
   ]
  },
  {
   "cell_type": "code",
   "execution_count": 78,
   "metadata": {},
   "outputs": [
    {
     "data": {
      "image/png": "[encoded data removed]",
      "text/plain": [
       "<Figure size 432x288 with 2 Axes>"
      ]
     },
     "metadata": {
      "needs_background": "light"
     },
     "output_type": "display_data"
    }
   ],
   "source": [
    "# Form confusion matrix as a DataFrame\n",
    "confusion_matrix_df = pd.DataFrame((confusion_matrix(y_test, y_test_pred)), ('No Default', 'Default'), ('No Default', 'Default'))\n",
    "\n",
    "# Plot confusion matrix\n",
    "plt.figure()\n",
    "heatmap = sns.heatmap(confusion_matrix_df, annot=True, annot_kws={'size': 14}, fmt='d', cmap='YlGnBu')\n",
    "heatmap.yaxis.set_ticklabels(heatmap.yaxis.get_ticklabels(), rotation=0, ha='right', fontsize=14)\n",
    "heatmap.xaxis.set_ticklabels(heatmap.xaxis.get_ticklabels(), rotation=0, ha='right', fontsize=14)\n",
    "\n",
    "plt.title('Confusion Matrix for Testing Model\\n(Random Forest)\\n', fontsize=18, color='darkblue')\n",
    "plt.ylabel('True label', fontsize=14)\n",
    "plt.xlabel('Predicted label', fontsize=14)\n",
    "plt.show()"
   ]
  },
  {
   "cell_type": "markdown",
   "metadata": {},
   "source": [
    "### Faeture Importance Random Forest"
   ]
  },
  {
   "cell_type": "code",
   "execution_count": 79,
   "metadata": {},
   "outputs": [
    {
     "data": {
      "image/png": "[encoded data removed]",
      "text/plain": [
       "<Figure size 576x720 with 1 Axes>"
      ]
     },
     "metadata": {
      "needs_background": "light"
     },
     "output_type": "display_data"
    }
   ],
   "source": [
    "feat_importance = pd.DataFrame()\n",
    "feat_importance[\"feature\"] = x.columns\n",
    "feat_importance[\"value\"] = rdf_model.feature_importances_\n",
    "feat_importance.sort_values(by='value', ascending=False, inplace=True)\n",
    "\n",
    "plt.figure(figsize=(8,10))\n",
    "ax = sns.barplot(y=\"feature\", x=\"value\", data=feat_importance.head(20))"
   ]
  },
  {
   "cell_type": "markdown",
   "metadata": {},
   "source": [
    "## Modelling: Gradient Boosting Classifier\n",
    "### Pembuatan Model\n",
    "Membuat model dengan menggunakan Algoritma **Gradient Boosting Classifier**."
   ]
  },
  {
   "cell_type": "code",
   "execution_count": 80,
   "metadata": {},
   "outputs": [],
   "source": [
    "#Train the model\n",
    "gbt_model = GradientBoostingClassifier().fit(x_train, y_train)"
   ]
  },
  {
   "cell_type": "markdown",
   "metadata": {},
   "source": [
    "### Perfomansi Model Data Training - Menampilkan Metrics\n",
    "Melakukan perhitungan untuk memperoleh classification report dan confusion matrix di data training."
   ]
  },
  {
   "cell_type": "code",
   "execution_count": 81,
   "metadata": {},
   "outputs": [
    {
     "name": "stdout",
     "output_type": "stream",
     "text": [
      "Classification Report Training Model (Gradient Bossting) :\n",
      "              precision    recall  f1-score   support\n",
      "\n",
      "         0.0       0.92      1.00      0.96    226132\n",
      "         1.0       0.64      0.02      0.03     19876\n",
      "\n",
      "    accuracy                           0.92    246008\n",
      "   macro avg       0.78      0.51      0.49    246008\n",
      "weighted avg       0.90      0.92      0.88    246008\n",
      "\n",
      "ROC AUC score is:  0.5073884627595235\n",
      "The accuracy in general is :  0.9197546421254593\n"
     ]
    }
   ],
   "source": [
    "# Predict\n",
    "y_train_pred = gbt_model.predict(x_train)\n",
    "\n",
    "# Print classification report \n",
    "print('Classification Report Training Model (Gradient Bossting) :')\n",
    "print(classification_report(y_train, y_train_pred))\n",
    "print(\"ROC AUC score is: \",roc_auc_score(y_train,y_train_pred))\n",
    "print(\"The accuracy in general is : \", accuracy_score(y_train,y_train_pred))"
   ]
  },
  {
   "cell_type": "markdown",
   "metadata": {},
   "source": [
    "### Perfomansi Model Data Training - Menampilkan Plots\n",
    "Tampilkan visualisasi dari metrics yang sudah dihasilkan sebelumnya "
   ]
  },
  {
   "cell_type": "code",
   "execution_count": 82,
   "metadata": {},
   "outputs": [
    {
     "data": {
      "text/html": [
       "<div>\n",
       "<style scoped>\n",
       "    .dataframe tbody tr th:only-of-type {\n",
       "        vertical-align: middle;\n",
       "    }\n",
       "\n",
       "    .dataframe tbody tr th {\n",
       "        vertical-align: top;\n",
       "    }\n",
       "\n",
       "    .dataframe thead th {\n",
       "        text-align: right;\n",
       "    }\n",
       "</style>\n",
       "<table border=\"1\" class=\"dataframe\">\n",
       "  <thead>\n",
       "    <tr style=\"text-align: right;\">\n",
       "      <th></th>\n",
       "      <th>No Default</th>\n",
       "      <th>Default</th>\n",
       "    </tr>\n",
       "  </thead>\n",
       "  <tbody>\n",
       "    <tr>\n",
       "      <th>No Default</th>\n",
       "      <td>225958</td>\n",
       "      <td>174</td>\n",
       "    </tr>\n",
       "    <tr>\n",
       "      <th>Default</th>\n",
       "      <td>19567</td>\n",
       "      <td>309</td>\n",
       "    </tr>\n",
       "  </tbody>\n",
       "</table>\n",
       "</div>"
      ],
      "text/plain": [
       "            No Default  Default\n",
       "No Default      225958      174\n",
       "Default          19567      309"
      ]
     },
     "execution_count": 82,
     "metadata": {},
     "output_type": "execute_result"
    }
   ],
   "source": [
    "# Form confusion matrix as a DataFrame\n",
    "confusion_matrix_df = pd.DataFrame((confusion_matrix(y_train, y_train_pred)), ('No Default', 'Default'), ('No Default', 'Default'))\n",
    "confusion_matrix_df"
   ]
  },
  {
   "cell_type": "code",
   "execution_count": 83,
   "metadata": {},
   "outputs": [
    {
     "data": {
      "image/png": "[encoded data removed]",
      "text/plain": [
       "<Figure size 432x288 with 2 Axes>"
      ]
     },
     "metadata": {
      "needs_background": "light"
     },
     "output_type": "display_data"
    }
   ],
   "source": [
    "# Plot confusion matrix\n",
    "plt.figure()\n",
    "heatmap = sns.heatmap(confusion_matrix_df, annot=True, annot_kws={'size': 14}, fmt='d', cmap='YlGnBu')\n",
    "heatmap.yaxis.set_ticklabels(heatmap.yaxis.get_ticklabels(), rotation=0, ha='right', fontsize=14)\n",
    "heatmap.xaxis.set_ticklabels(heatmap.xaxis.get_ticklabels(), rotation=0, ha='right', fontsize=14)\n",
    "\n",
    "plt.title('Confusion Matrix for Training Model\\n(Gradient Boosting)', fontsize=18, color='darkblue')\n",
    "plt.ylabel('True label', fontsize=14)\n",
    "plt.xlabel('Predicted label', fontsize=14)\n",
    "plt.show()"
   ]
  },
  {
   "cell_type": "markdown",
   "metadata": {},
   "source": [
    "### Performansi Model Data Testing - Menampilkan Metrics\n",
    "Melakukan perhitungan untuk memperoleh classification reportnya dan confusion matrixnya di data testing"
   ]
  },
  {
   "cell_type": "code",
   "execution_count": 84,
   "metadata": {},
   "outputs": [
    {
     "name": "stdout",
     "output_type": "stream",
     "text": [
      "Classification Report Testing Model (Gradient Boosting):\n",
      "              precision    recall  f1-score   support\n",
      "\n",
      "         0.0       0.92      1.00      0.96     56554\n",
      "         1.0       0.59      0.01      0.03      4949\n",
      "\n",
      "    accuracy                           0.92     61503\n",
      "   macro avg       0.76      0.51      0.49     61503\n",
      "weighted avg       0.89      0.92      0.88     61503\n",
      "\n",
      "The accuracy in general is :  0.9198738272929776\n"
     ]
    }
   ],
   "source": [
    "# Predict\n",
    "y_test_pred = gbt_model.predict(x_test)\n",
    "\n",
    "# Print classification report\n",
    "print('Classification Report Testing Model (Gradient Boosting):')\n",
    "print(classification_report(y_test, y_test_pred))\n",
    "print(\"The accuracy in general is : \", accuracy_score(y_test,y_test_pred))"
   ]
  },
  {
   "cell_type": "markdown",
   "metadata": {},
   "source": [
    "### Performansi Model Data Testing - Menampilkan Plots\n",
    "Buatlah visualisasi dari metrics yang sudah dihasilkan sebelumnya"
   ]
  },
  {
   "cell_type": "code",
   "execution_count": 85,
   "metadata": {},
   "outputs": [
    {
     "data": {
      "text/html": [
       "<div>\n",
       "<style scoped>\n",
       "    .dataframe tbody tr th:only-of-type {\n",
       "        vertical-align: middle;\n",
       "    }\n",
       "\n",
       "    .dataframe tbody tr th {\n",
       "        vertical-align: top;\n",
       "    }\n",
       "\n",
       "    .dataframe thead th {\n",
       "        text-align: right;\n",
       "    }\n",
       "</style>\n",
       "<table border=\"1\" class=\"dataframe\">\n",
       "  <thead>\n",
       "    <tr style=\"text-align: right;\">\n",
       "      <th></th>\n",
       "      <th>No Default</th>\n",
       "      <th>Default</th>\n",
       "    </tr>\n",
       "  </thead>\n",
       "  <tbody>\n",
       "    <tr>\n",
       "      <th>No Default</th>\n",
       "      <td>56509</td>\n",
       "      <td>45</td>\n",
       "    </tr>\n",
       "    <tr>\n",
       "      <th>Default</th>\n",
       "      <td>4883</td>\n",
       "      <td>66</td>\n",
       "    </tr>\n",
       "  </tbody>\n",
       "</table>\n",
       "</div>"
      ],
      "text/plain": [
       "            No Default  Default\n",
       "No Default       56509       45\n",
       "Default           4883       66"
      ]
     },
     "execution_count": 85,
     "metadata": {},
     "output_type": "execute_result"
    }
   ],
   "source": [
    "# Form confusion matrix as a DataFrame\n",
    "confusion_matrix_df = pd.DataFrame((confusion_matrix(y_test, y_test_pred)), ('No Default', 'Default'), ('No Default', 'Default'))\n",
    "confusion_matrix_df"
   ]
  },
  {
   "cell_type": "code",
   "execution_count": 86,
   "metadata": {},
   "outputs": [
    {
     "data": {
      "image/png": "[encoded data removed]",
      "text/plain": [
       "<Figure size 432x288 with 2 Axes>"
      ]
     },
     "metadata": {
      "needs_background": "light"
     },
     "output_type": "display_data"
    }
   ],
   "source": [
    "# Plot confusion matrix\n",
    "plt.figure()\n",
    "heatmap = sns.heatmap(confusion_matrix_df, annot=True, annot_kws={'size': 14}, fmt='d', cmap='YlGnBu')\n",
    "heatmap.yaxis.set_ticklabels(heatmap.yaxis.get_ticklabels(), rotation=0, ha='right', fontsize=14)\n",
    "heatmap.xaxis.set_ticklabels(heatmap.xaxis.get_ticklabels(), rotation=0, ha='right', fontsize=14)\n",
    "\n",
    "plt.title('Confusion Matrix for Testing Model\\n(Gradient Boosting)', fontsize=18, color='darkblue')\n",
    "plt.ylabel('True label', fontsize=14)\n",
    "plt.xlabel('Predicted label', fontsize=14)\n",
    "plt.show()"
   ]
  },
  {
   "cell_type": "markdown",
   "metadata": {},
   "source": [
    "### Feature Importance XGBoost"
   ]
  },
  {
   "cell_type": "code",
   "execution_count": 87,
   "metadata": {
    "scrolled": false
   },
   "outputs": [
    {
     "data": {
      "image/png": "[encoded data removed]",
      "text/plain": [
       "<Figure size 576x720 with 1 Axes>"
      ]
     },
     "metadata": {
      "needs_background": "light"
     },
     "output_type": "display_data"
    }
   ],
   "source": [
    "feat_importance = pd.DataFrame()\n",
    "feat_importance[\"feature\"] = x.columns\n",
    "feat_importance[\"value\"] = gbt_model.feature_importances_\n",
    "feat_importance.sort_values(by='value', ascending=False, inplace=True)\n",
    "\n",
    "plt.figure(figsize=(8,10))\n",
    "ax = sns.barplot(y=\"feature\", x=\"value\", data=feat_importance.head(20))"
   ]
  },
  {
   "cell_type": "markdown",
   "metadata": {},
   "source": [
    "## Modelling: LGBM Classifier\n",
    "### Pembuatan Model\n",
    "Membuat model dengan menggunakan Algoritma **LGBM Classifier**."
   ]
  },
  {
   "cell_type": "code",
   "execution_count": 88,
   "metadata": {},
   "outputs": [],
   "source": [
    "#Train the model\n",
    "# lgb_model = LGBMClassifier(\n",
    "#     objective='binary',\n",
    "#     boosting='gbdt',\n",
    "#     learning_rate = 0.05,\n",
    "#     max_depth = 8,\n",
    "#     num_leaves = 80,\n",
    "#     n_estimators = 400,\n",
    "#     bagging_fraction = 0.8,\n",
    "#     feature_fraction = 0.9).fit(x_train, y_train)"
   ]
  },
  {
   "cell_type": "code",
   "execution_count": 89,
   "metadata": {},
   "outputs": [],
   "source": [
    "lgb_model = LGBMClassifier().fit(x_train, y_train)"
   ]
  },
  {
   "cell_type": "markdown",
   "metadata": {},
   "source": [
    "### Perfomansi Model Data Training - Menampilkan Metrics\n",
    "Melakukan perhitungan untuk memperoleh classification report dan confusion matrix di data training."
   ]
  },
  {
   "cell_type": "code",
   "execution_count": 90,
   "metadata": {},
   "outputs": [
    {
     "name": "stdout",
     "output_type": "stream",
     "text": [
      "Classification Report Training Model (Gradient Bossting) :\n",
      "              precision    recall  f1-score   support\n",
      "\n",
      "         0.0       0.92      1.00      0.96    226132\n",
      "         1.0       0.70      0.02      0.05     19876\n",
      "\n",
      "    accuracy                           0.92    246008\n",
      "   macro avg       0.81      0.51      0.50    246008\n",
      "weighted avg       0.90      0.92      0.88    246008\n",
      "\n",
      "ROC AUC score is:  0.5114106630621466\n",
      "The accuracy in general is :  0.9203155994926995\n"
     ]
    }
   ],
   "source": [
    "# Predict\n",
    "y_train_pred = lgb_model.predict(x_train)\n",
    "\n",
    "# Print classification report \n",
    "print('Classification Report Training Model (Gradient Bossting) :')\n",
    "print(classification_report(y_train, y_train_pred))\n",
    "print(\"ROC AUC score is: \",roc_auc_score(y_train,y_train_pred))\n",
    "print(\"The accuracy in general is : \", accuracy_score(y_train,y_train_pred))"
   ]
  },
  {
   "cell_type": "markdown",
   "metadata": {},
   "source": [
    "### Perfomansi Model Data Training - Menampilkan Plots\n",
    "Tampilkan visualisasi dari metrics yang sudah dihasilkan sebelumnya "
   ]
  },
  {
   "cell_type": "code",
   "execution_count": 91,
   "metadata": {},
   "outputs": [
    {
     "data": {
      "text/html": [
       "<div>\n",
       "<style scoped>\n",
       "    .dataframe tbody tr th:only-of-type {\n",
       "        vertical-align: middle;\n",
       "    }\n",
       "\n",
       "    .dataframe tbody tr th {\n",
       "        vertical-align: top;\n",
       "    }\n",
       "\n",
       "    .dataframe thead th {\n",
       "        text-align: right;\n",
       "    }\n",
       "</style>\n",
       "<table border=\"1\" class=\"dataframe\">\n",
       "  <thead>\n",
       "    <tr style=\"text-align: right;\">\n",
       "      <th></th>\n",
       "      <th>No Default</th>\n",
       "      <th>Default</th>\n",
       "    </tr>\n",
       "  </thead>\n",
       "  <tbody>\n",
       "    <tr>\n",
       "      <th>No Default</th>\n",
       "      <td>225934</td>\n",
       "      <td>198</td>\n",
       "    </tr>\n",
       "    <tr>\n",
       "      <th>Default</th>\n",
       "      <td>19405</td>\n",
       "      <td>471</td>\n",
       "    </tr>\n",
       "  </tbody>\n",
       "</table>\n",
       "</div>"
      ],
      "text/plain": [
       "            No Default  Default\n",
       "No Default      225934      198\n",
       "Default          19405      471"
      ]
     },
     "execution_count": 91,
     "metadata": {},
     "output_type": "execute_result"
    }
   ],
   "source": [
    "# Form confusion matrix as a DataFrame\n",
    "confusion_matrix_df = pd.DataFrame((confusion_matrix(y_train, y_train_pred)), ('No Default', 'Default'), ('No Default', 'Default'))\n",
    "confusion_matrix_df"
   ]
  },
  {
   "cell_type": "code",
   "execution_count": 92,
   "metadata": {},
   "outputs": [
    {
     "data": {
      "image/png": "[encoded data removed]",
      "text/plain": [
       "<Figure size 432x288 with 2 Axes>"
      ]
     },
     "metadata": {
      "needs_background": "light"
     },
     "output_type": "display_data"
    }
   ],
   "source": [
    "# Plot confusion matrix\n",
    "plt.figure()\n",
    "heatmap = sns.heatmap(confusion_matrix_df, annot=True, annot_kws={'size': 14}, fmt='d', cmap='YlGnBu')\n",
    "heatmap.yaxis.set_ticklabels(heatmap.yaxis.get_ticklabels(), rotation=0, ha='right', fontsize=14)\n",
    "heatmap.xaxis.set_ticklabels(heatmap.xaxis.get_ticklabels(), rotation=0, ha='right', fontsize=14)\n",
    "\n",
    "plt.title('Confusion Matrix for Training Model\\n(LGBM)', fontsize=18, color='darkblue')\n",
    "plt.ylabel('True label', fontsize=14)\n",
    "plt.xlabel('Predicted label', fontsize=14)\n",
    "plt.show()"
   ]
  },
  {
   "cell_type": "markdown",
   "metadata": {},
   "source": [
    "### Performansi Model Data Testing - Menampilkan Metrics\n",
    "Melakukan perhitungan untuk memperoleh classification reportnya dan confusion matrixnya di data testing"
   ]
  },
  {
   "cell_type": "code",
   "execution_count": 93,
   "metadata": {},
   "outputs": [
    {
     "name": "stdout",
     "output_type": "stream",
     "text": [
      "Classification Report Testing Model (Gradient Boosting):\n",
      "              precision    recall  f1-score   support\n",
      "\n",
      "         0.0       0.92      1.00      0.96     56554\n",
      "         1.0       0.59      0.01      0.03      4949\n",
      "\n",
      "    accuracy                           0.92     61503\n",
      "   macro avg       0.76      0.51      0.49     61503\n",
      "weighted avg       0.89      0.92      0.88     61503\n",
      "\n",
      "ROC AUC score is:  0.5062701638975212\n",
      "The accuracy in general is :  0.9198738272929776\n"
     ]
    }
   ],
   "source": [
    "# Predict\n",
    "y_test_pred = gbt_model.predict(x_test)\n",
    "\n",
    "# Print classification report\n",
    "print('Classification Report Testing Model (Gradient Boosting):')\n",
    "print(classification_report(y_test, y_test_pred))\n",
    "print(\"ROC AUC score is: \",roc_auc_score(y_test,y_test_pred))\n",
    "print(\"The accuracy in general is : \", accuracy_score(y_test,y_test_pred))"
   ]
  },
  {
   "cell_type": "markdown",
   "metadata": {},
   "source": [
    "### Performansi Model Data Testing - Menampilkan Plots\n",
    "Buatlah visualisasi dari metrics yang sudah dihasilkan sebelumnya"
   ]
  },
  {
   "cell_type": "code",
   "execution_count": 94,
   "metadata": {},
   "outputs": [
    {
     "data": {
      "text/html": [
       "<div>\n",
       "<style scoped>\n",
       "    .dataframe tbody tr th:only-of-type {\n",
       "        vertical-align: middle;\n",
       "    }\n",
       "\n",
       "    .dataframe tbody tr th {\n",
       "        vertical-align: top;\n",
       "    }\n",
       "\n",
       "    .dataframe thead th {\n",
       "        text-align: right;\n",
       "    }\n",
       "</style>\n",
       "<table border=\"1\" class=\"dataframe\">\n",
       "  <thead>\n",
       "    <tr style=\"text-align: right;\">\n",
       "      <th></th>\n",
       "      <th>No Default</th>\n",
       "      <th>Default</th>\n",
       "    </tr>\n",
       "  </thead>\n",
       "  <tbody>\n",
       "    <tr>\n",
       "      <th>No Default</th>\n",
       "      <td>56509</td>\n",
       "      <td>45</td>\n",
       "    </tr>\n",
       "    <tr>\n",
       "      <th>Default</th>\n",
       "      <td>4883</td>\n",
       "      <td>66</td>\n",
       "    </tr>\n",
       "  </tbody>\n",
       "</table>\n",
       "</div>"
      ],
      "text/plain": [
       "            No Default  Default\n",
       "No Default       56509       45\n",
       "Default           4883       66"
      ]
     },
     "execution_count": 94,
     "metadata": {},
     "output_type": "execute_result"
    }
   ],
   "source": [
    "# Form confusion matrix as a DataFrame\n",
    "confusion_matrix_df = pd.DataFrame((confusion_matrix(y_test, y_test_pred)), ('No Default', 'Default'), ('No Default', 'Default'))\n",
    "confusion_matrix_df"
   ]
  },
  {
   "cell_type": "code",
   "execution_count": 95,
   "metadata": {},
   "outputs": [
    {
     "data": {
      "image/png": "[encoded data removed]",
      "text/plain": [
       "<Figure size 432x288 with 2 Axes>"
      ]
     },
     "metadata": {
      "needs_background": "light"
     },
     "output_type": "display_data"
    }
   ],
   "source": [
    "# Plot confusion matrix\n",
    "plt.figure()\n",
    "heatmap = sns.heatmap(confusion_matrix_df, annot=True, annot_kws={'size': 14}, fmt='d', cmap='YlGnBu')\n",
    "heatmap.yaxis.set_ticklabels(heatmap.yaxis.get_ticklabels(), rotation=0, ha='right', fontsize=14)\n",
    "heatmap.xaxis.set_ticklabels(heatmap.xaxis.get_ticklabels(), rotation=0, ha='right', fontsize=14)\n",
    "\n",
    "plt.title('Confusion Matrix for Testing Model\\n(LGBM)', fontsize=18, color='darkblue')\n",
    "plt.ylabel('True label', fontsize=14)\n",
    "plt.xlabel('Predicted label', fontsize=14)\n",
    "plt.show()"
   ]
  },
  {
   "cell_type": "markdown",
   "metadata": {},
   "source": [
    "### Feature Importance lgbm"
   ]
  },
  {
   "cell_type": "code",
   "execution_count": 96,
   "metadata": {},
   "outputs": [
    {
     "data": {
      "image/png": "[encoded data removed]",
      "text/plain": [
       "<Figure size 576x720 with 1 Axes>"
      ]
     },
     "metadata": {
      "needs_background": "light"
     },
     "output_type": "display_data"
    }
   ],
   "source": [
    "feat_importance = pd.DataFrame()\n",
    "feat_importance[\"feature\"] = x.columns\n",
    "feat_importance[\"value\"] = lgb_model.feature_importances_\n",
    "feat_importance.sort_values(by='value', ascending=False, inplace=True)\n",
    "\n",
    "plt.figure(figsize=(8,10))\n",
    "ax = sns.barplot(y=\"feature\", x=\"value\", data=feat_importance.head(20))"
   ]
  },
  {
   "cell_type": "markdown",
   "metadata": {},
   "source": [
    "## AUC ROC Score"
   ]
  },
  {
   "cell_type": "markdown",
   "metadata": {},
   "source": [
    "**TRAINING**"
   ]
  },
  {
   "cell_type": "code",
   "execution_count": 97,
   "metadata": {},
   "outputs": [],
   "source": [
    "log_train_proba = log_model.predict_proba(x_train)[::,1]\n",
    "fpr_log_train, tpr_log_train, _ = roc_curve(y_train,  log_train_proba)\n",
    "auc_log_train = roc_auc_score(y_train, log_train_proba).round(4)\n",
    "\n",
    "rdf_train_proba = rdf_model.predict_proba(x_train)[::,1]\n",
    "fpr_rdf_train, tpr_rdf_train, _ = roc_curve(y_train,  rdf_train_proba)\n",
    "auc_rdf_train = roc_auc_score(y_train, rdf_train_proba).round(4)\n",
    "\n",
    "gbt_train_proba = gbt_model.predict_proba(x_train)[::,1]\n",
    "fpr_gbt_train, tpr_gbt_train, _ = roc_curve(y_train,  gbt_train_proba)\n",
    "auc_gbt_train = roc_auc_score(y_train, gbt_train_proba).round(4)\n",
    "\n",
    "lgb_train_proba = lgb_model.predict_proba(x_train)[::,1]\n",
    "fpr_lgb_train, tpr_lgb_train, _ = roc_curve(y_train,  lgb_train_proba)\n",
    "auc_lgb_train = roc_auc_score(y_train, lgb_train_proba).round(4)"
   ]
  },
  {
   "cell_type": "code",
   "execution_count": 98,
   "metadata": {
    "scrolled": false
   },
   "outputs": [
    {
     "data": {
      "text/plain": [
       "<matplotlib.legend.Legend at 0x197001ce5b0>"
      ]
     },
     "execution_count": 98,
     "metadata": {},
     "output_type": "execute_result"
    },
    {
     "data": {
      "image/png": "[encoded data removed]",
      "text/plain": [
       "<Figure size 576x504 with 1 Axes>"
      ]
     },
     "metadata": {
      "needs_background": "light"
     },
     "output_type": "display_data"
    }
   ],
   "source": [
    "fig=plt.figure(figsize=(8,7))\n",
    "ax=fig.add_subplot(111)\n",
    "\n",
    "\n",
    "ax.plot(fpr_log_train,tpr_log_train,label=\"train, auc_log=\"+str(auc_log_train))\n",
    "ax.plot(fpr_rdf_train,tpr_rdf_train,label=\"train, auc_rdf=\"+str(auc_rdf_train))\n",
    "ax.plot(fpr_gbt_train,tpr_gbt_train,label=\"train, auc_gbt=\"+str(auc_gbt_train))\n",
    "ax.plot(fpr_lgb_train,tpr_lgb_train,label=\"train, auc_lgb=\"+str(auc_lgb_train))\n",
    "ax.plot([0, 1], [0, 1], color='navy', label='luck, auc_luck=0.5', linestyle='--')\n",
    "\n",
    "ax.set_xlabel(\"False Positive Rate\")\n",
    "ax.set_ylabel(\"True Positive Rate\")\n",
    "\n",
    "plt.legend(loc=4)"
   ]
  },
  {
   "cell_type": "markdown",
   "metadata": {},
   "source": [
    "**TESTING**"
   ]
  },
  {
   "cell_type": "code",
   "execution_count": 99,
   "metadata": {},
   "outputs": [],
   "source": [
    "log_test_proba = log_model.predict_proba(x_test)[::,1]\n",
    "fpr_log_test, tpr_log_test, _ = roc_curve(y_test,  log_test_proba)\n",
    "auc_log_test = roc_auc_score(y_test, log_test_proba).round(4)\n",
    "\n",
    "rdf_test_proba = rdf_model.predict_proba(x_test)[::,1]\n",
    "fpr_rdf_test, tpr_rdf_test, _ = roc_curve(y_test,  rdf_test_proba)\n",
    "auc_rdf_test = roc_auc_score(y_test, rdf_test_proba).round(4)\n",
    "\n",
    "gbt_test_proba = gbt_model.predict_proba(x_test)[::,1]\n",
    "fpr_gbt_test, tpr_gbt_test, _ = roc_curve(y_test,  gbt_test_proba)\n",
    "auc_gbt_test = roc_auc_score(y_test, gbt_test_proba).round(4)\n",
    "\n",
    "lgb_test_proba = lgb_model.predict_proba(x_test)[::,1]\n",
    "fpr_lgb_test, tpr_lgb_test, _ = roc_curve(y_test,  lgb_test_proba)\n",
    "auc_lgb_test = roc_auc_score(y_test, lgb_test_proba).round(4)\n"
   ]
  },
  {
   "cell_type": "code",
   "execution_count": 100,
   "metadata": {},
   "outputs": [
    {
     "data": {
      "text/plain": [
       "<matplotlib.legend.Legend at 0x1970023fe20>"
      ]
     },
     "execution_count": 100,
     "metadata": {},
     "output_type": "execute_result"
    },
    {
     "data": {
      "image/png": "[encoded data removed]",
      "text/plain": [
       "<Figure size 576x504 with 1 Axes>"
      ]
     },
     "metadata": {
      "needs_background": "light"
     },
     "output_type": "display_data"
    }
   ],
   "source": [
    "fig=plt.figure(figsize=(8,7))\n",
    "ax=fig.add_subplot(111)\n",
    "\n",
    "\n",
    "ax.plot(fpr_log_test,tpr_log_test,label=\"test, auc_log=\"+str(auc_log_test))\n",
    "ax.plot(fpr_rdf_test,tpr_rdf_test,label=\"test, auc_rdf=\"+str(auc_rdf_test))\n",
    "ax.plot(fpr_gbt_test,tpr_gbt_test,label=\"test, auc_gbt=\"+str(auc_gbt_test))\n",
    "ax.plot(fpr_lgb_test,tpr_lgb_test,label=\"test, auc_lgb=\"+str(auc_lgb_test))\n",
    "ax.plot([0, 1], [0, 1], color='navy', label='luck, auc_luck=0.5', linestyle='--')\n",
    "\n",
    "ax.set_xlabel(\"False Positive Rate\")\n",
    "ax.set_ylabel(\"True Positive Rate\")\n",
    "\n",
    "plt.legend(loc=4)"
   ]
  },
  {
   "cell_type": "markdown",
   "metadata": {},
   "source": [
    "=================================================================================================================="
   ]
  },
  {
   "cell_type": "markdown",
   "metadata": {},
   "source": [
    "## Menentukan Algoritma Model Terbaik\n",
    "Model yang baik adalah model yang mampu memberikan performa bagus di fase training dan testing model.\n",
    "- **Over-Fitting** adalah suatu kondisi dimana model mampu memprediksi dengan sangat baik di fase training, akan tetapi tidak mampu memprediksi sama baiknya di fase testing.\n",
    "- **Under-Fitting** adalah suatu kondisi dimana model kurang mampu memprediksi dengan baik di fase training, akan tetapi mampu memprediksi dengan baik di fase testing.\n",
    "- **Appropriate-Fitting** adalah suatu kondisi dimana model mampu memprediksi dengan baik di fase training maupun di fase testing."
   ]
  },
  {
   "cell_type": "markdown",
   "metadata": {},
   "source": [
    "Dengan menggunakan AUC_Score sebagai matrix penilaian, maka model terbaik adalah model **light gradient boosting**"
   ]
  },
  {
   "cell_type": "markdown",
   "metadata": {},
   "source": [
    "# Model Terbaik : LGBClassifier()"
   ]
  },
  {
   "cell_type": "code",
   "execution_count": 101,
   "metadata": {},
   "outputs": [
    {
     "data": {
      "text/plain": [
       "<matplotlib.legend.Legend at 0x197001fdc70>"
      ]
     },
     "execution_count": 101,
     "metadata": {},
     "output_type": "execute_result"
    },
    {
     "data": {
      "image/png": "[encoded data removed]",
      "text/plain": [
       "<Figure size 576x504 with 1 Axes>"
      ]
     },
     "metadata": {
      "needs_background": "light"
     },
     "output_type": "display_data"
    }
   ],
   "source": [
    "fig=plt.figure(figsize=(8,7))\n",
    "ax=fig.add_subplot(111)\n",
    "\n",
    "\n",
    "ax.plot(fpr_lgb_train,tpr_lgb_train,label=\"train, auc_lgb=\"+str(auc_lgb_train))\n",
    "ax.plot(fpr_lgb_test,tpr_lgb_test,label=\"test, auc_lgb=\"+str(auc_lgb_test))\n",
    "ax.plot([0, 1], [0, 1], color='navy', label='luck', linestyle='--')\n",
    "\n",
    "ax.set_xlabel(\"False Positive Rate\")\n",
    "ax.set_ylabel(\"True Positive Rate\")\n",
    "\n",
    "plt.legend(loc=4)"
   ]
  },
  {
   "cell_type": "markdown",
   "metadata": {},
   "source": [
    "#### Binning Probability"
   ]
  },
  {
   "cell_type": "code",
   "execution_count": 102,
   "metadata": {},
   "outputs": [],
   "source": [
    "lgb = pd.DataFrame()\n",
    "lgb['target'] = y_test"
   ]
  },
  {
   "cell_type": "code",
   "execution_count": 103,
   "metadata": {},
   "outputs": [],
   "source": [
    "lgb['pred'] = lgb_test_proba"
   ]
  },
  {
   "cell_type": "code",
   "execution_count": 104,
   "metadata": {},
   "outputs": [],
   "source": [
    "lgb['bins'] = pd.qcut(lgb['pred'], 10)"
   ]
  },
  {
   "cell_type": "code",
   "execution_count": 105,
   "metadata": {},
   "outputs": [
    {
     "data": {
      "text/html": [
       "<div>\n",
       "<style scoped>\n",
       "    .dataframe tbody tr th:only-of-type {\n",
       "        vertical-align: middle;\n",
       "    }\n",
       "\n",
       "    .dataframe tbody tr th {\n",
       "        vertical-align: top;\n",
       "    }\n",
       "\n",
       "    .dataframe thead tr th {\n",
       "        text-align: left;\n",
       "    }\n",
       "\n",
       "    .dataframe thead tr:last-of-type th {\n",
       "        text-align: right;\n",
       "    }\n",
       "</style>\n",
       "<table border=\"1\" class=\"dataframe\">\n",
       "  <thead>\n",
       "    <tr>\n",
       "      <th></th>\n",
       "      <th colspan=\"3\" halign=\"left\">target</th>\n",
       "    </tr>\n",
       "    <tr>\n",
       "      <th></th>\n",
       "      <th>count</th>\n",
       "      <th>sum</th>\n",
       "      <th>mean</th>\n",
       "    </tr>\n",
       "    <tr>\n",
       "      <th>bins</th>\n",
       "      <th></th>\n",
       "      <th></th>\n",
       "      <th></th>\n",
       "    </tr>\n",
       "  </thead>\n",
       "  <tbody>\n",
       "    <tr>\n",
       "      <th>(0.00465, 0.0204]</th>\n",
       "      <td>6151</td>\n",
       "      <td>71.00</td>\n",
       "      <td>0.01</td>\n",
       "    </tr>\n",
       "    <tr>\n",
       "      <th>(0.0204, 0.0271]</th>\n",
       "      <td>6150</td>\n",
       "      <td>105.00</td>\n",
       "      <td>0.02</td>\n",
       "    </tr>\n",
       "    <tr>\n",
       "      <th>(0.0271, 0.0341]</th>\n",
       "      <td>6150</td>\n",
       "      <td>183.00</td>\n",
       "      <td>0.03</td>\n",
       "    </tr>\n",
       "    <tr>\n",
       "      <th>(0.0341, 0.0423]</th>\n",
       "      <td>6150</td>\n",
       "      <td>203.00</td>\n",
       "      <td>0.03</td>\n",
       "    </tr>\n",
       "    <tr>\n",
       "      <th>(0.0423, 0.0529]</th>\n",
       "      <td>6151</td>\n",
       "      <td>318.00</td>\n",
       "      <td>0.05</td>\n",
       "    </tr>\n",
       "    <tr>\n",
       "      <th>(0.0529, 0.0668]</th>\n",
       "      <td>6150</td>\n",
       "      <td>387.00</td>\n",
       "      <td>0.06</td>\n",
       "    </tr>\n",
       "    <tr>\n",
       "      <th>(0.0668, 0.087]</th>\n",
       "      <td>6150</td>\n",
       "      <td>486.00</td>\n",
       "      <td>0.08</td>\n",
       "    </tr>\n",
       "    <tr>\n",
       "      <th>(0.087, 0.119]</th>\n",
       "      <td>6150</td>\n",
       "      <td>634.00</td>\n",
       "      <td>0.10</td>\n",
       "    </tr>\n",
       "    <tr>\n",
       "      <th>(0.119, 0.181]</th>\n",
       "      <td>6150</td>\n",
       "      <td>928.00</td>\n",
       "      <td>0.15</td>\n",
       "    </tr>\n",
       "    <tr>\n",
       "      <th>(0.181, 0.832]</th>\n",
       "      <td>6151</td>\n",
       "      <td>1634.00</td>\n",
       "      <td>0.27</td>\n",
       "    </tr>\n",
       "  </tbody>\n",
       "</table>\n",
       "</div>"
      ],
      "text/plain": [
       "                  target             \n",
       "                   count     sum mean\n",
       "bins                                 \n",
       "(0.00465, 0.0204]   6151   71.00 0.01\n",
       "(0.0204, 0.0271]    6150  105.00 0.02\n",
       "(0.0271, 0.0341]    6150  183.00 0.03\n",
       "(0.0341, 0.0423]    6150  203.00 0.03\n",
       "(0.0423, 0.0529]    6151  318.00 0.05\n",
       "(0.0529, 0.0668]    6150  387.00 0.06\n",
       "(0.0668, 0.087]     6150  486.00 0.08\n",
       "(0.087, 0.119]      6150  634.00 0.10\n",
       "(0.119, 0.181]      6150  928.00 0.15\n",
       "(0.181, 0.832]      6151 1634.00 0.27"
      ]
     },
     "execution_count": 105,
     "metadata": {},
     "output_type": "execute_result"
    }
   ],
   "source": [
    "lgb_result = lgb.groupby('bins').agg({'target':['count', 'sum', 'mean']})\n",
    "lgb_result"
   ]
  },
  {
   "cell_type": "markdown",
   "metadata": {},
   "source": [
    "Mean konsisten naik dari bin yang kecil ke bin yang lebih besar. Karena data imbalance, maka akan lebih sulit untuk memprediksi secara akurat. Baseline yang digunakan: jika ada model yang bingung (tidak mampu memisahkan target 1 dan 0 dengan baik) maka model akan cenderung tebak ke average. Jika kejadiannya seperti gitu, maka Mean di setiap bin akan kurang lebih sama, Sekitar 8% (average dataset default). Tapi karena model ini bisa pisahin 1 dan 0 dengan baik, maka di bin kecil model lebih sering tebak mendekati 0, sehingga average nya menjadi < 8%. Dan sebaliknya untuk bin besar, model lebih sering tebak mendekati 1, sehingga average nya jadi > 8%"
   ]
  },
  {
   "cell_type": "markdown",
   "metadata": {},
   "source": [
    "## Predict Data App"
   ]
  },
  {
   "cell_type": "code",
   "execution_count": 106,
   "metadata": {},
   "outputs": [],
   "source": [
    "lgb_pred = lgb_model.predict_proba(app_test)"
   ]
  },
  {
   "cell_type": "code",
   "execution_count": 107,
   "metadata": {},
   "outputs": [],
   "source": [
    "submission = test[['SK_ID_CURR']]\n",
    "submission['TARGET'] = lgb_pred[:,1]"
   ]
  },
  {
   "cell_type": "code",
   "execution_count": 108,
   "metadata": {},
   "outputs": [
    {
     "data": {
      "text/plain": [
       "(77, 2)"
      ]
     },
     "execution_count": 108,
     "metadata": {},
     "output_type": "execute_result"
    }
   ],
   "source": [
    "submission[submission['TARGET'] > 0.5].shape"
   ]
  },
  {
   "cell_type": "code",
   "execution_count": 109,
   "metadata": {},
   "outputs": [
    {
     "data": {
      "text/html": [
       "<div>\n",
       "<style scoped>\n",
       "    .dataframe tbody tr th:only-of-type {\n",
       "        vertical-align: middle;\n",
       "    }\n",
       "\n",
       "    .dataframe tbody tr th {\n",
       "        vertical-align: top;\n",
       "    }\n",
       "\n",
       "    .dataframe thead th {\n",
       "        text-align: right;\n",
       "    }\n",
       "</style>\n",
       "<table border=\"1\" class=\"dataframe\">\n",
       "  <thead>\n",
       "    <tr style=\"text-align: right;\">\n",
       "      <th></th>\n",
       "      <th>SK_ID_CURR</th>\n",
       "      <th>TARGET</th>\n",
       "    </tr>\n",
       "  </thead>\n",
       "  <tbody>\n",
       "    <tr>\n",
       "      <th>307511</th>\n",
       "      <td>100001</td>\n",
       "      <td>0.04</td>\n",
       "    </tr>\n",
       "    <tr>\n",
       "      <th>307512</th>\n",
       "      <td>100005</td>\n",
       "      <td>0.13</td>\n",
       "    </tr>\n",
       "    <tr>\n",
       "      <th>307513</th>\n",
       "      <td>100013</td>\n",
       "      <td>0.02</td>\n",
       "    </tr>\n",
       "    <tr>\n",
       "      <th>307514</th>\n",
       "      <td>100028</td>\n",
       "      <td>0.03</td>\n",
       "    </tr>\n",
       "    <tr>\n",
       "      <th>307515</th>\n",
       "      <td>100038</td>\n",
       "      <td>0.14</td>\n",
       "    </tr>\n",
       "  </tbody>\n",
       "</table>\n",
       "</div>"
      ],
      "text/plain": [
       "        SK_ID_CURR  TARGET\n",
       "307511      100001    0.04\n",
       "307512      100005    0.13\n",
       "307513      100013    0.02\n",
       "307514      100028    0.03\n",
       "307515      100038    0.14"
      ]
     },
     "execution_count": 109,
     "metadata": {},
     "output_type": "execute_result"
    }
   ],
   "source": [
    "submission.head()"
   ]
  },
  {
   "cell_type": "code",
   "execution_count": 110,
   "metadata": {},
   "outputs": [],
   "source": [
    "submission.to_csv('submission.csv',index=False)"
   ]
  }
 ],
 "metadata": {
  "kernelspec": {
   "display_name": "Python 3",
   "language": "python",
   "name": "python3"
  },
  "language_info": {
   "codemirror_mode": {
    "name": "ipython",
    "version": 3
   },
   "file_extension": ".py",
   "mimetype": "text/x-python",
   "name": "python",
   "nbconvert_exporter": "python",
   "pygments_lexer": "ipython3",
   "version": "3.8.3"
  }
 },
 "nbformat": 4,
 "nbformat_minor": 2
}
